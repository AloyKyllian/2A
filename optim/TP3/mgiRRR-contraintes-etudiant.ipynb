{
 "cells": [
  {
   "cell_type": "markdown",
   "metadata": {},
   "source": [
    "\n",
    "#            Calcul numérique du MGI d'un RRR par PNL avec contraintes #\n",
    "\n"
   ]
  },
  {
   "cell_type": "markdown",
   "metadata": {},
   "source": [
    "|![alternative text](robot-rrr3-sol.png)|\n",
    "|:--:| \n",
    "| *  Robot RRR  * |"
   ]
  },
  {
   "cell_type": "markdown",
   "metadata": {},
   "source": [
    "## Objectif\n",
    "On se propose de calculer de manière numérique un modèle géométrique inverse (MGI) d'un robot RRR en utilisant les fonctions de $scipy$ $optimize$ et en considérant des contraintes.\n",
    "\n",
    "La configuration du robot est défini par le vecteur $q = (q_1, q_2, q_3)^t$.\n",
    "\n",
    "La situation de l'outil est défini par le vecteur $X = (x, y, \\theta)^t$ .\n"
   ]
  },
  {
   "cell_type": "markdown",
   "metadata": {},
   "source": [
    "## Calcul du MGD\n",
    "La fonction suivante calcule le modèle géométrique direct:\n"
   ]
  },
  {
   "cell_type": "code",
   "execution_count": 2,
   "metadata": {},
   "outputs": [],
   "source": [
    "#################################################   \n",
    "# Calcul du MGD du robot RRR\n",
    "# INPUT:  q = vecteur de configuration (deg, deg, deg)\n",
    "# OUTPUT: Xc = vecteur de situation = (x,y,z) \n",
    "def mgd(qdeg):\n",
    "#### Paramètres du robot\n",
    "    a,b,c=1,1,1\n",
    "    qrad=np.deg2rad(qdeg)\n",
    "    c1= np.cos(qrad[0])\n",
    "    s1=np.sin(qrad[0])\n",
    "    c23= np.cos(qrad[2]+qrad[1])\n",
    "    s23= np.sin(qrad[2]+qrad[1])\n",
    "    c2=np.cos(qrad[1])\n",
    "    s2=np.sin(qrad[1])\n",
    "    x= a*c1*c2 + b*c1*c23\n",
    "    y= a*s1*c2 + b*s1*c23\n",
    "    z= a*s2 + b*s23 +c\n",
    "    Xd=np.asarray([x,y,z])\n",
    "    return Xd"
   ]
  },
  {
   "cell_type": "code",
   "execution_count": 3,
   "metadata": {},
   "outputs": [],
   "source": [
    "#################################################   \n",
    "# Calcul de J(q) du robot RRR\n",
    "# INPUT:  q = vecteur de configuration (deg, deg, deg)\n",
    "# OUTPUT: jacobienne(q) analytique:\n",
    "def jacobienne(qdeg):\n",
    "#### Paramètres du robot\n",
    "    a,b=1,1\n",
    "    qrad=np.deg2rad(qdeg)\n",
    "    c1= np.cos(qrad[0])\n",
    "    s1=np.sin(qrad[0])\n",
    "    c23= np.cos(qrad[2]+qrad[1])\n",
    "    s23= np.sin(qrad[2]+qrad[1])\n",
    "    c2=np.cos(qrad[1])\n",
    "    s2=np.sin(qrad[1])\n",
    " \n",
    "    Ja=np.array([[-a*s1*c2 -b*s1*c23, -a*c1*s2 -b*c1*s23,  -b*c1*s23], \n",
    "                [a*c1*c2 + b*c1*c23, -a*s1*s2 -b*s1*s23,  -b*s1*s23], \n",
    "                 [0, a*c2 + b*c23, b*c23]])\n",
    "\n",
    "    return Ja"
   ]
  },
  {
   "cell_type": "code",
   "execution_count": 4,
   "metadata": {},
   "outputs": [],
   "source": [
    "#################################################   \n",
    "%matplotlib inline\n",
    "from matplotlib import cm\n",
    "import matplotlib.pyplot as plt\n",
    "from mpl_toolkits.mplot3d import axes3d  # Fonction pour la 3D\n",
    "from mpl_toolkits.mplot3d import proj3d\n",
    "import numpy as np\n",
    "import scipy\n",
    "import time\n",
    "from scipy.optimize import minimize\n",
    "from scipy.optimize import root\n",
    "import scipy.optimize as spop\n",
    "from scipy import linalg\n"
   ]
  },
  {
   "cell_type": "markdown",
   "metadata": {},
   "source": [
    "## 1 - Calcul du MGI sans contraintes\n",
    "\n",
    "Trouver et utiliser les fonctions de $optimize$ permettant de calculer le MGI $(root, broyden, minimize,...)$.\n",
    "\n",
    "Comparer les résultats avec votre implémentation\n"
   ]
  },
  {
   "cell_type": "code",
   "execution_count": 5,
   "metadata": {},
   "outputs": [
    {
     "name": "stdout",
     "output_type": "stream",
     "text": [
      "Xbut= 1.2071067811865477 Ybut =  -1.2071067811865477 Z but =  1.7071067811865475\n",
      "[-4.50000000e+01  1.44802271e-09  4.50000000e+01]\n",
      "[ 1.20710678 -1.20710678  1.70710678]\n",
      "True\n",
      "[-4.50000000e+01  2.18455408e-09  4.50000000e+01]\n",
      "[ 1.20710678 -1.20710678  1.70710678]\n",
      "False\n",
      "[134.99997762 180.00005839 315.00009215]\n",
      "[ 1.20710762 -1.20710857  1.7071039 ]\n",
      "True\n"
     ]
    }
   ],
   "source": [
    "###################################################################################\n",
    "\n",
    "def objectif(qdeg):\n",
    "    return mgd(qdeg)-Xbut\n",
    "\n",
    "def objectif_lineaire(qdeg):\n",
    "    return np.linalg.norm(mgd(qdeg)-Xbut)\n",
    "\n",
    "qinit= np.asarray([5., 0,  4.])\n",
    "\n",
    "qbut= np.asarray([-45., 0,  45.])\n",
    "## Calcul Xbut à partir de qbut\n",
    "#Xbut= np.asarray(mgd(np.radians(qbut)))\n",
    "Xbut= mgd(qbut)\n",
    "print(\"Xbut=\", Xbut[0], \"Ybut = \", Xbut[1], \"Z but = \", Xbut[2])\n",
    "sol = root(objectif,qinit,jac = jacobienne,method = 'hybr')\n",
    "print(sol.x)\n",
    "print(mgd(sol.x))\n",
    "print(sol.success)\n",
    "solMinimize = minimize(objectif_lineaire,qinit)\n",
    "print(solMinimize.x)\n",
    "print(mgd(solMinimize.x))\n",
    "print(solMinimize.success)\n",
    "solbroyden = root(objectif,qinit,method = 'broyden1')\n",
    "print(solbroyden.x%360)\n",
    "print(mgd(solbroyden.x))\n",
    "print(solbroyden.success)"
   ]
  },
  {
   "cell_type": "markdown",
   "metadata": {},
   "source": [
    "## 2 - Calcul du MGI avec  contraintes\n",
    "\n",
    "Définir et utiliser une fonction $fun$ permettant de calculer la solution du MGI la plus proche de la configuration initiale $qinit$ donnée à la fonction $minimize$.\n",
    "\n",
    "$res = minimize(fun, qinit, ....)$\n"
   ]
  },
  {
   "cell_type": "code",
   "execution_count": 6,
   "metadata": {},
   "outputs": [
    {
     "ename": "SyntaxError",
     "evalue": "invalid syntax (1703499716.py, line 6)",
     "output_type": "error",
     "traceback": [
      "\u001b[1;36m  Cell \u001b[1;32mIn[6], line 6\u001b[1;36m\u001b[0m\n\u001b[1;33m    Calcul Xbut à partir de qbut\u001b[0m\n\u001b[1;37m           ^\u001b[0m\n\u001b[1;31mSyntaxError\u001b[0m\u001b[1;31m:\u001b[0m invalid syntax\n"
     ]
    }
   ],
   "source": [
    "def objectif_distance(qdeg):\n",
    "    return np.linalg.norm(qdeg-qinit)\n",
    "\n",
    "\n",
    "qbut= np.asarray([-45., 0,  45.])\n",
    "# Calcul Xbut à partir de qbut\n",
    "#Xbut= np.asarray(mgd(np.radians(qbut)))\n",
    "Xbut= mgd(qbut)\n",
    "print(\"Xbut=\", Xbut[0], \"Ybut = \", Xbut[1], \"Z but = \", Xbut[2])\n",
    "\n",
    "qinit= np.asarray([5., 0,  4.])\n",
    "Xinit = mgd(qinit)\n",
    "print(\"Xbut=\", Xinit[0], \"Ybut = \", Xinit[1], \"Z but = \", Xinit[2])\n",
    "constraints = ({'type': 'eq', 'fun': lambda qdeg: Xbut[0] - mgd(qdeg)[0]},\n",
    "               {'type': 'eq', 'fun': lambda qdeg: Xbut[1] - mgd(qdeg)[1]},\n",
    "               {'type': 'eq', 'fun': lambda qdeg:  Xbut[2] - mgd(qdeg)[2]})\n",
    "\n",
    "solMinimize = minimize(objectif_distance,qinit,constraints=constraints,method = 'slsqp')\n",
    "print(solMinimize.x)\n",
    "print(mgd(solMinimize.x))\n",
    "print(solMinimize.success)\n"
   ]
  },
  {
   "cell_type": "markdown",
   "metadata": {},
   "source": [
    "## 3 - Calcul du MGI avec  contraintes\n",
    "\n",
    "Définir et utiliser une fonction permettant de calculer la solution du MGI en prenant en compte les butées du robot.\n",
    "\n",
    "$q_1 \\in [-120, 120]$\n",
    "\n",
    "$q_2 \\in [-45, 120]$\n",
    "\n",
    "$q_3 \\in [-120, 120]$\n"
   ]
  },
  {
   "cell_type": "code",
   "execution_count": 7,
   "metadata": {},
   "outputs": [
    {
     "name": "stdout",
     "output_type": "stream",
     "text": [
      "Xbut= 1.2071067811865477 Ybut =  -1.2071067811865477 Z but =  1.7071067811865475\n",
      "[-4.50000107e+01  8.38132166e-05  4.49999130e+01]\n",
      "[ 1.20710658 -1.20710703  1.7071082 ]\n",
      "True\n"
     ]
    }
   ],
   "source": [
    "def objectif(qdeg):\n",
    "    return mgd(qdeg)-Xbut\n",
    "\n",
    "def objectif_lineaire(qdeg,Xbut):\n",
    "    return np.linalg.norm(mgd(qdeg)-Xbut)\n",
    "\n",
    "qinit= np.asarray([5., 0,  4.])\n",
    "\n",
    "qbut= np.asarray([-45., 0,  45.])\n",
    "## Calcul Xbut à partir de qbut\n",
    "#Xbut= np.asarray(mgd(np.radians(qbut)))\n",
    "Xbut= mgd(qbut)\n",
    "print(\"Xbut=\", Xbut[0], \"Ybut = \", Xbut[1], \"Z but = \", Xbut[2])\n",
    "\n",
    "constraints = ({'type': 'ineq', 'fun': lambda qdeg: qdeg[0] - (-120)},\n",
    "               {'type': 'ineq', 'fun': lambda qdeg: 120 - qdeg[0]},\n",
    "               {'type': 'ineq', 'fun': lambda qdeg: qdeg[1] - (-45)},\n",
    "               {'type': 'ineq', 'fun': lambda qdeg: 120 - qdeg[1]},\n",
    "               {'type': 'ineq', 'fun': lambda qdeg: qdeg[2] - (-120)},\n",
    "               {'type': 'ineq', 'fun': lambda qdeg: 120 - qdeg[2]})\n",
    "\n",
    "solMinimize = minimize(objectif_lineaire,qinit,Xbut,constraints=constraints,method = 'slsqp')\n",
    "print(solMinimize.x)\n",
    "print(mgd(solMinimize.x))\n",
    "print(solMinimize.success)"
   ]
  }
 ],
 "metadata": {
  "interpreter": {
   "hash": "bbc2ed3a8a2dee35b18e38b3ef06bdb872cfcf66a777cd2986d2236d6841a89a"
  },
  "kernelspec": {
   "display_name": "Python 3.11.4 ('base')",
   "language": "python",
   "name": "python3"
  },
  "language_info": {
   "codemirror_mode": {
    "name": "ipython",
    "version": 3
   },
   "file_extension": ".py",
   "mimetype": "text/x-python",
   "name": "python",
   "nbconvert_exporter": "python",
   "pygments_lexer": "ipython3",
   "version": "3.11.4"
  }
 },
 "nbformat": 4,
 "nbformat_minor": 2
}
