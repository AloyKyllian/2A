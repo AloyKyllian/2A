{
 "cells": [
  {
   "cell_type": "markdown",
   "metadata": {},
   "source": [
    "\n",
    "#            Calcul numérique du MGI d'un RRR par PNL avec contraintes #\n",
    "\n"
   ]
  },
  {
   "cell_type": "markdown",
   "metadata": {},
   "source": [
    "|![alternative text](robot-rrr3-sol.png)|\n",
    "|:--:| \n",
    "| *  Robot RRR  * |"
   ]
  },
  {
   "cell_type": "markdown",
   "metadata": {},
   "source": [
    "## Objectif\n",
    "On se propose de calculer de manière numérique un modèle géométrique inverse (MGI) d'un robot RRR en utilisant les fonctions de $scipy$ $optimize$ et en considérant des contraintes.\n",
    "\n",
    "La configuration du robot est défini par le vecteur $q = (q_1, q_2, q_3)^t$.\n",
    "\n",
    "La situation de l'outil est défini par le vecteur $X = (x, y, \\theta)^t$ .\n"
   ]
  },
  {
   "cell_type": "markdown",
   "metadata": {},
   "source": [
    "## Calcul du MGD\n",
    "La fonction suivante calcule le modèle géométrique direct:\n"
   ]
  },
  {
   "cell_type": "code",
   "execution_count": 1,
   "metadata": {},
   "outputs": [],
   "source": [
    "#################################################   \n",
    "# Calcul du MGD du robot RRR\n",
    "# INPUT:  q = vecteur de configuration (deg, deg, deg)\n",
    "# OUTPUT: Xc = vecteur de situation = (x,y,z) \n",
    "def mgd(qdeg):\n",
    "#### Paramètres du robot\n",
    "    a,b,c=1,1,1\n",
    "    qrad=np.deg2rad(qdeg)\n",
    "    c1= np.cos(qrad[0])\n",
    "    s1=np.sin(qrad[0])\n",
    "    c23= np.cos(qrad[2]+qrad[1])\n",
    "    s23= np.sin(qrad[2]+qrad[1])\n",
    "    c2=np.cos(qrad[1])\n",
    "    s2=np.sin(qrad[1])\n",
    "    x= a*c1*c2 + b*c1*c23\n",
    "    y= a*s1*c2 + b*s1*c23\n",
    "    z= a*s2 + b*s23 +c\n",
    "    Xd=np.asarray([x,y,z])\n",
    "    return Xd"
   ]
  },
  {
   "cell_type": "code",
   "execution_count": 2,
   "metadata": {},
   "outputs": [],
   "source": [
    "#################################################   \n",
    "# Calcul de J(q) du robot RRR\n",
    "# INPUT:  q = vecteur de configuration (deg, deg, deg)\n",
    "# OUTPUT: jacobienne(q) analytique:\n",
    "def jacobienne(qdeg):\n",
    "#### Paramètres du robot\n",
    "    a,b=1,1\n",
    "    qrad=np.deg2rad(qdeg)\n",
    "    c1= np.cos(qrad[0])\n",
    "    s1=np.sin(qrad[0])\n",
    "    c23= np.cos(qrad[2]+qrad[1])\n",
    "    s23= np.sin(qrad[2]+qrad[1])\n",
    "    c2=np.cos(qrad[1])\n",
    "    s2=np.sin(qrad[1])\n",
    " \n",
    "    Ja=np.array([[-a*s1*c2 -b*s1*c23, -a*c1*s2 -b*c1*s23,  -b*c1*s23], \n",
    "                [a*c1*c2 + b*c1*c23, -a*s1*s2 -b*s1*s23,  -b*s1*s23], \n",
    "                 [0, a*c2 + b*c23, b*c23]])\n",
    "\n",
    "    return Ja"
   ]
  },
  {
   "cell_type": "code",
   "execution_count": 5,
   "metadata": {},
   "outputs": [],
   "source": [
    "#################################################   \n",
    "%matplotlib inline\n",
    "from matplotlib import cm\n",
    "import matplotlib.pyplot as plt\n",
    "from mpl_toolkits.mplot3d import axes3d  # Fonction pour la 3D\n",
    "from mpl_toolkits.mplot3d import proj3d\n",
    "import numpy as np\n",
    "import scipy\n",
    "import time\n",
    "from scipy.optimize import minimize\n",
    "from scipy.optimize import root\n",
    "import scipy.optimize as spop\n",
    "from scipy import linalg\n"
   ]
  },
  {
   "cell_type": "markdown",
   "metadata": {},
   "source": [
    "## 1 - Calcul du MGI sans contraintes\n",
    "\n",
    "Trouver et utiliser les fonctions de $optimize$ permettant de calculer le MGI $(root, broyden, minimize,...)$.\n",
    "\n",
    "Comparer les résultats avec votre implémentation\n"
   ]
  },
  {
   "cell_type": "code",
   "execution_count": 15,
   "metadata": {},
   "outputs": [
    {
     "name": "stdout",
     "output_type": "stream",
     "text": [
      "Xbut= 1.2071067811865477 Ybut =  -1.2071067811865477 Z but =  1.7071067811865475\n"
     ]
    },
    {
     "data": {
      "text/plain": [
       "array([  5., -30., 240.])"
      ]
     },
     "execution_count": 15,
     "metadata": {},
     "output_type": "execute_result"
    }
   ],
   "source": [
    "###################################################################################\n",
    "\n",
    "qinit= np.asarray([5., 0,  4.])\n",
    "\n",
    "qbut= np.asarray([-45., 0,  45.])\n",
    "## Calcul Xbut à partir de qbut\n",
    "#Xbut= np.asarray(mgd(np.radians(qbut)))\n",
    "Xbut= mgd(qbut)\n",
    "print(\"Xbut=\", Xbut[0], \"Ybut = \", Xbut[1], \"Z but = \", Xbut[2])\n",
    "\n",
    "sol = root(mgd,qinit,jac = jacobienne,method = 'hybr')\n",
    "sol.x"
   ]
  },
  {
   "cell_type": "markdown",
   "metadata": {},
   "source": [
    "## 2 - Calcul du MGI avec  contraintes\n",
    "\n",
    "Définir et utiliser une fonction $fun$ permettant de calculer la solution du MGI la plus proche de la configuration initiale $qinit$ donnée à la fonction $minimize$.\n",
    "\n",
    "$res = minimize(fun, qinit, ....)$\n"
   ]
  },
  {
   "cell_type": "markdown",
   "metadata": {},
   "source": [
    "## 3 - Calcul du MGI avec  contraintes\n",
    "\n",
    "Définir et utiliser une fonction permettant de calculer la solution du MGI en prenant en compte les butées du robot.\n",
    "\n",
    "$q_1 \\in [-120, 120]$\n",
    "\n",
    "$q_2 \\in [-45, 120]$\n",
    "\n",
    "$q_3 \\in [-120, 120]$\n"
   ]
  }
 ],
 "metadata": {
  "interpreter": {
   "hash": "bbc2ed3a8a2dee35b18e38b3ef06bdb872cfcf66a777cd2986d2236d6841a89a"
  },
  "kernelspec": {
   "display_name": "Python 3.11.4 ('base')",
   "language": "python",
   "name": "python3"
  },
  "language_info": {
   "codemirror_mode": {
    "name": "ipython",
    "version": 3
   },
   "file_extension": ".py",
   "mimetype": "text/x-python",
   "name": "python",
   "nbconvert_exporter": "python",
   "pygments_lexer": "ipython3",
   "version": "3.11.4"
  }
 },
 "nbformat": 4,
 "nbformat_minor": 2
}
