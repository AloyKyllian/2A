{
 "cells": [
  {
   "cell_type": "markdown",
   "metadata": {},
   "source": [
    "\n",
    "#            Calcul numérique du MGI d'un RRR par PNL #\n",
    "\n"
   ]
  },
  {
   "cell_type": "markdown",
   "metadata": {},
   "source": [
    "On se propose de calculer de manière numérique un modèle géométrique inverse (MGI) d'un robot RRR en utilisant les outils de programmation non-linéaire. \n",
    "\n",
    "La configuration du robot est défini par le vecteur $q = (q_1, q_2, q_3)^t$.\n",
    "\n",
    "La situation de l'outil est défini par le vecteur $X = (x, y, z)^t$ ."
   ]
  },
  {
   "cell_type": "markdown",
   "metadata": {},
   "source": [
    "|![alternative text](robot-rrr3.png)|\n",
    "|:--:| \n",
    "| *  Robot RRR  * |"
   ]
  },
  {
   "cell_type": "markdown",
   "metadata": {},
   "source": [
    "## Objectif\n",
    "L'objectif est d'implémenter plusieurs méthodes de recherche de solution pour le calcul du MGI (recherche d'un optimum local), de les comparer et d'en tirer des conclusions. \n",
    "\n",
    "Les conditions de sortie des algorithmes seront définies par un nombre\n",
    "maximum d'itérations et par une valeur seuil pour l'erreur de la fonction objectif.\n"
   ]
  },
  {
   "cell_type": "markdown",
   "metadata": {},
   "source": [
    "## Principe\n",
    "\n",
    "Pour calculer le MGI avec les outils de programmation non linéaire vous devez :\n",
    "\n",
    "- définir une fonction à minimiser ou à annuler\n",
    "\n",
    "- implémenter une méthode de recherche linéaire\n"
   ]
  },
  {
   "cell_type": "markdown",
   "metadata": {},
   "source": [
    "## Environnement Python et liste des modules utiles\n"
   ]
  },
  {
   "cell_type": "code",
   "execution_count": null,
   "metadata": {},
   "outputs": [],
   "source": [
    "## Environnement Python\n",
    "################################################# \n",
    "import numpy as np\n",
    "import scipy\n",
    "import time\n",
    "##############\n",
    "%matplotlib inline\n",
    "from matplotlib import cm\n",
    "import matplotlib.pyplot as plt\n",
    "from mpl_toolkits.mplot3d import axes3d  # Fonction pour la 3D\n",
    "from mpl_toolkits.mplot3d import proj3d\n",
    "#############\n",
    "from scipy.optimize import minimize\n",
    "from scipy.optimize import root\n",
    "import scipy.optimize as spop\n",
    "from scipy import linalg\n"
   ]
  },
  {
   "cell_type": "markdown",
   "metadata": {},
   "source": [
    "## Calcul du MGD\n"
   ]
  },
  {
   "cell_type": "code",
   "execution_count": null,
   "metadata": {},
   "outputs": [],
   "source": [
    "#################################################   \n",
    "# Calcul du MGD du robot RRR\n",
    "# INPUT:  q = vecteur de configuration (deg, deg, deg)\n",
    "# OUTPUT: Xc = vecteur de situation = position3D = (x,y,z) \n",
    "def mgd(qdeg,a,b):\n",
    "    qrad=np.deg2rad(qdeg)\n",
    "    c1= np.cos(qrad[0])\n",
    "    s1=np.sin(qrad[0])\n",
    "    c23= np.cos(qrad[2]+qrad[1])\n",
    "    s23= np.sin(qrad[2]+qrad[1])\n",
    "    c2=np.cos(qrad[1])\n",
    "    s2=np.sin(qrad[1])\n",
    "    x= a*c1*c2 + b*c1*c23\n",
    "    y= a*s1*c2 + b*s1*c23\n",
    "    z= a*s2 + b*s23\n",
    "    Xd=[x,y,z]\n",
    "    return Xd"
   ]
  },
  {
   "cell_type": "markdown",
   "metadata": {},
   "source": [
    "### Test du MGD"
   ]
  },
  {
   "cell_type": "code",
   "execution_count": 5,
   "metadata": {},
   "outputs": [
    {
     "name": "stdout",
     "output_type": "stream",
     "text": [
      "X= 6.123233995736766e-17 Y =  1.0 Z=  1.0\n"
     ]
    }
   ],
   "source": [
    "##### INPUT de q en degré ###\n",
    "qdeg = [90, 0, 90]\n",
    "Xd= mgd(qdeg,1,1)\n",
    "print(\"X=\", Xd[0], \"Y = \", Xd[1], \"Z= \",Xd[2])"
   ]
  },
  {
   "cell_type": "markdown",
   "metadata": {},
   "source": [
    "## Calcul de la Jacobienne analytique Ja(q)"
   ]
  },
  {
   "cell_type": "code",
   "execution_count": 6,
   "metadata": {},
   "outputs": [],
   "source": [
    "#################################################   \n",
    "# Calcul de J(q) du robot RRR\n",
    "# INPUT:  q = vecteur de configuration (deg, deg, deg)\n",
    "# OUTPUT: jacobienne(q) analytique:\n",
    "def ja(qdeg,a,b):\n",
    "#### Paramètres du robot\n",
    "    a,b=10,10\n",
    "    qrad=np.deg2rad(qdeg)\n",
    "    c1= np.cos(qrad[0])\n",
    "    s1=np.sin(qrad[0])\n",
    "    c23= np.cos(qrad[2]+qrad[1])\n",
    "    s23= np.sin(qrad[2]+qrad[1])\n",
    "    c2=np.cos(qrad[1])\n",
    "    s2=np.sin(qrad[1])\n",
    " \n",
    "    Ja=np.array([[-a*s1*c2 -b*s1*c23, -a*c1*s2 -b*c1*s23,  -b*c1*s23], \n",
    "                [a*c1*c2 + b*c1*c23, -a*s1*s2 -b*s1*s23,  -b*s1*s23], \n",
    "                 [0, a*c2 + b*c23, b*c23]])\n",
    "\n",
    "    return Ja"
   ]
  },
  {
   "cell_type": "markdown",
   "metadata": {},
   "source": [
    "### Test de J"
   ]
  },
  {
   "cell_type": "code",
   "execution_count": 7,
   "metadata": {},
   "outputs": [
    {
     "name": "stdout",
     "output_type": "stream",
     "text": [
      "Ja= [[-1.000000e+01 -6.123234e-16 -6.123234e-16]\n",
      " [ 6.123234e-16 -1.000000e+01 -1.000000e+01]\n",
      " [ 0.000000e+00  1.000000e+01  6.123234e-16]]\n"
     ]
    }
   ],
   "source": [
    "qdeg = [90, 0, 90]\n",
    "Ja=ja(qdeg,1,1)\n",
    "print(\"Ja=\",Ja)"
   ]
  },
  {
   "cell_type": "markdown",
   "metadata": {},
   "source": [
    "### Dessin du robot en 3D (filaire)"
   ]
  },
  {
   "cell_type": "code",
   "execution_count": 6,
   "metadata": {},
   "outputs": [],
   "source": [
    "def dessinRRR(q,a,b) :\n",
    "    qrad=np.deg2rad(q)\n",
    "    c1= np.cos(qrad[0])\n",
    "    s1=np.sin(qrad[0])\n",
    "    c23= np.cos(qrad[2]+qrad[1])\n",
    "    s23= np.sin(qrad[2]+qrad[1])\n",
    "    c2=np.cos(qrad[1])\n",
    "    s2=np.sin(qrad[1])\n",
    "    \n",
    "    X=[0, a*c1*c2, a*c1*c2 + b*c1*c23]\n",
    "    Y=[0, a*s1*c2, a*s1*c2 + b*s1*c23]\n",
    "    Z=[0, a*s2, a*s2 + b*s23]\n",
    "    fig = plt.figure()\n",
    "    ax = fig.add_subplot(projection='3d')  # Affichage en 3D\n",
    "    ax.plot3D(X,Y,Z, 'red')\n",
    "    \n",
    "    plt.title(\"Tracé filaire\")\n",
    "    ax.set_xlabel('X')\n",
    "    ax.set_ylabel('Y')\n",
    "    ax.set_zlabel('Z')\n",
    "    ax.scatter(X,Y,Z, c=\"red\")\n",
    "    plt.show()"
   ]
  },
  {
   "cell_type": "markdown",
   "metadata": {},
   "source": [
    "### Affichage du robot en 3D"
   ]
  },
  {
   "cell_type": "code",
   "execution_count": 7,
   "metadata": {},
   "outputs": [],
   "source": [
    "%matplotlib qt\n",
    "dessinRRR(qdeg,5,5)"
   ]
  },
  {
   "cell_type": "code",
   "execution_count": 8,
   "metadata": {},
   "outputs": [],
   "source": [
    "%matplotlib inline"
   ]
  },
  {
   "cell_type": "markdown",
   "metadata": {},
   "source": [
    "# ==========================================="
   ]
  },
  {
   "cell_type": "markdown",
   "metadata": {},
   "source": [
    "# Travail à faire\n",
    "\n",
    "Vous devez définir et implémenter la fonction de calcul du mgi: \n",
    "\n",
    "$[q_{sol}]= mgi(X_d, q_0, Nbmax, \\epsilon$) \n",
    "\n",
    "avec \n",
    "\n",
    "- $X_d$ situation désirée, \n",
    "- $q_0$ configuration initiale du robot,\n",
    "- $Nbmax$ nombre maximum d'itérations, \n",
    "- $\\epsilon$ précision du calcul de la solution.\n",
    "\n",
    "en utilisant une des méthodes proposées."
   ]
  },
  {
   "cell_type": "markdown",
   "metadata": {},
   "source": [
    "## 1 - Méthode du gradient\n",
    "\n",
    "On utilise la méthode du gradient pour minimiser un critère $C(q)= \\frac{1}{2} \\; e^t.e = \\frac{1}{2} \\; \\left\\lVert e \\right\\rVert^{2}$ avec $e= X_d -f(q)$, $f(q)$ correspond au MGD en $q$.\n",
    "\n",
    "- Montrer que $direction = -\\nabla C(q) = J(q)^t . e$.\n",
    "\n",
    "- Implémenter la méthode du gradient pour résoudre le  MGI. Tester pour différentes conditions initiales (proches/loin de la solution, proches/loin de singularités. On choisira un coefficient $pas = 0.5$, puis on le fera varier. Quel coefficient semble le plus approprié ? \n",
    "- Tracer la variation de l'erreur. Comment régler le pas afin de garantir une convergence du gradient ? \n",
    "- Proposer et implémenter une solution de calcul automatique du pas.\n",
    "- Modifer la longueur des corps (a = 1 ou 10, b = 1 ou 10). Avez-vous le même résultat ?\n",
    "- Conclusions"
   ]
  },
  {
   "cell_type": "code",
   "execution_count": 8,
   "metadata": {},
   "outputs": [
    {
     "name": "stdout",
     "output_type": "stream",
     "text": [
      "Xbut= 1.0 Ybut =  0.0 Z but =  -1.0\n"
     ]
    }
   ],
   "source": [
    "###################################################################################\n",
    "# Afin de donner une situation atteignable pour le robot,\n",
    "# vous pouvez utiliser le mgd pour définir Xbut à partir d'une configuration en q\n",
    "###################################################################################\n",
    "## qbut est donné en degré\n",
    "qbut= [0., 0,  -90.]\n",
    "## Calcul Xbut à partir de qbut\n",
    "Xbut= np.asarray(mgd(qbut,1,1))\n",
    "print(\"Xbut=\", Xbut[0], \"Ybut = \", Xbut[1], \"Z but = \", Xbut[2])"
   ]
  },
  {
   "cell_type": "code",
   "execution_count": 10,
   "metadata": {},
   "outputs": [],
   "source": [
    "########### A FAIRE ##################################  \n",
    "def direction():\n",
    "   \n",
    "    return dir"
   ]
  },
  {
   "cell_type": "code",
   "execution_count": 12,
   "metadata": {},
   "outputs": [],
   "source": [
    "########## A FAIRE ###########################\n",
    "def pas():\n",
    "   \n",
    "    return p"
   ]
  },
  {
   "cell_type": "code",
   "execution_count": null,
   "metadata": {},
   "outputs": [],
   "source": [
    "######### CALCUL DU MGI A FAIRE ################\n",
    "# Définir les paramètres du robot\n",
    "a,b= 1,1\n",
    "# Définition de Xbut\n",
    "qbut= np.asarray([118., 22,  48.])\n",
    "Xbut= np.asarray(mgd(qbut,a,b))\n",
    "print(\"Xbut=\", Xbut, type(Xbut))\n",
    "#Initialisation de la recherche\n",
    "qinit=np.asarray([120., 25,  45.])\n",
    "Xinit=np.asarray(mgd(qinit,a,b))\n",
    "print(\"Xinit = \",Xinit)\n",
    "#\n",
    "# Algo de recherche de la solution\n",
    "# while (???):\n",
    "#\n",
    "#   A COMPLETER\n",
    "#\n",
    "qc = ??? #valeur finale retournée par MGI\n",
    "# Visualisation des résultats (quelques idées, faire une courbe \n",
    "# qui montre l'évolution de l'erreur)\n",
    "print(\"Valeur finale du critère =X\",erx,\" après \",i,\" itérations\")\n",
    "X= mgd(qc,a,b)\n",
    "print(\"Xinit              =\",Xinit))\n",
    "print(\"Xfinal avec qfinal = \",X)\n",
    "print(\"Xbut à atteindre   =\", Xbut)\n",
    "\n",
    "print(\"Erreur finale=\",erx)\n",
    "abs = np.linspace(0,len(list_erreur)-1,(len(list_erreur)))\n",
    "\n",
    "plt.plot(abs,list_erreur,'k')\n",
    "plt.show(block=True)\n"
   ]
  },
  {
   "cell_type": "markdown",
   "metadata": {},
   "source": [
    "## 2 - Méthode de Newton\n",
    "\n",
    "On utilise le schéma de Newton pour calculer le MGI du robot en cherchant le zéro de la fonction:\n",
    "\n",
    "$H(q) = X_d - f(q)$ \n",
    "\n",
    "pour une situation désirée $X_d = (x, y,\\theta)^t$ avec $f(q)$ qui correspond au MGD en $q$.\n",
    "Ce schéma impose de calculer l'inverse de la jacobienne analytique.\n",
    "\n",
    "- Montrer que $ direction = J(q)^{-1} . (X_d - f(q)) $.\n",
    "- Implémenter la méthode de Newton en python pour résoudre le MGI. Tester pour différentes conditions initiales(proches/loin de la solution, proches/loin de singularités. Modifier la valeur du $pas$. Faire varier  $N_{max}$ et $\\epsilon$.\n",
    "- Tracer la variation de l'erreur. Conclusions.\n"
   ]
  },
  {
   "cell_type": "markdown",
   "metadata": {},
   "source": []
  },
  {
   "cell_type": "code",
   "execution_count": null,
   "metadata": {},
   "outputs": [],
   "source": [
    "################################################  \n",
    "# calcul de la direction"
   ]
  },
  {
   "cell_type": "code",
   "execution_count": null,
   "metadata": {},
   "outputs": [],
   "source": [
    "#################################################\n",
    "# calcul du pas"
   ]
  },
  {
   "cell_type": "code",
   "execution_count": null,
   "metadata": {},
   "outputs": [],
   "source": [
    "######### CALCUL DU MGI A FAIRE ################"
   ]
  },
  {
   "cell_type": "markdown",
   "metadata": {},
   "source": [
    "# Conclusion\n",
    "\n",
    "Donner vos conclusion sur l'utilisation de techniques de PNL pour le calcul de solutions de MGI"
   ]
  },
  {
   "cell_type": "markdown",
   "metadata": {},
   "source": [
    "## 3 - Génération de mouvement en ligne droite\n",
    "\n",
    "Réaliser un programme qui utilise le calcul numérique du MGI pour faire déplacer le robot en ligne droite entre deux points $A$ et $B$ définis dans l'espce de travail 3D.\n",
    "\n",
    "A la situation initiale on connaît toujours la configuration $\\bf{q}_0$ du robot (lecture des valeurs des codeurs).\n",
    "\n",
    "Il faudra échantillonner le segment $AB$ pour définir les situations intermédiaire à atteindre.\n",
    "\n",
    "Donner vos conclusions en fonction des points $A$ et $B$ et de la valeur de votre échantillonnage.\n"
   ]
  },
  {
   "cell_type": "code",
   "execution_count": null,
   "metadata": {},
   "outputs": [],
   "source": [
    "plt.close('all')"
   ]
  }
 ],
 "metadata": {
  "interpreter": {
   "hash": "bbc2ed3a8a2dee35b18e38b3ef06bdb872cfcf66a777cd2986d2236d6841a89a"
  },
  "kernelspec": {
   "display_name": "Python 3.11.4 ('base')",
   "language": "python",
   "name": "python3"
  },
  "language_info": {
   "codemirror_mode": {
    "name": "ipython",
    "version": 3
   },
   "file_extension": ".py",
   "mimetype": "text/x-python",
   "name": "python",
   "nbconvert_exporter": "python",
   "pygments_lexer": "ipython3",
   "version": "3.11.4"
  }
 },
 "nbformat": 4,
 "nbformat_minor": 2
}
