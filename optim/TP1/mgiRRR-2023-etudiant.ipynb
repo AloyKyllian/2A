{
 "cells": [
  {
   "cell_type": "markdown",
   "metadata": {},
   "source": [
    "\n",
    "#            Calcul numérique du MGI d'un RRR par PNL #\n",
    "\n"
   ]
  },
  {
   "cell_type": "markdown",
   "metadata": {},
   "source": [
    "On se propose de calculer de manière numérique un modèle géométrique inverse (MGI) d'un robot RRR en utilisant les outils de programmation non-linéaire. \n",
    "\n",
    "La configuration du robot est défini par le vecteur $q = (q_1, q_2, q_3)^t$.\n",
    "\n",
    "La situation de l'outil est défini par le vecteur $X = (x, y, z)^t$ ."
   ]
  },
  {
   "cell_type": "markdown",
   "metadata": {},
   "source": [
    "|![alternative text](robot-rrr3.png)|\n",
    "|:--:| \n",
    "| *  Robot RRR  * |"
   ]
  },
  {
   "cell_type": "markdown",
   "metadata": {},
   "source": [
    "## Objectif\n",
    "L'objectif est d'implémenter plusieurs méthodes de recherche de solution pour le calcul du MGI (recherche d'un optimum local), de les comparer et d'en tirer des conclusions. \n",
    "\n",
    "Les conditions de sortie des algorithmes seront définies par un nombre\n",
    "maximum d'itérations et par une valeur seuil pour l'erreur de la fonction objectif.\n"
   ]
  },
  {
   "cell_type": "markdown",
   "metadata": {},
   "source": [
    "## Principe\n",
    "\n",
    "Pour calculer le MGI avec les outils de programmation non linéaire vous devez :\n",
    "\n",
    "- définir une fonction à minimiser ou à annuler\n",
    "\n",
    "- implémenter une méthode de recherche linéaire\n"
   ]
  },
  {
   "cell_type": "markdown",
   "metadata": {},
   "source": [
    "## Environnement Python et liste des modules utiles\n"
   ]
  },
  {
   "cell_type": "code",
   "execution_count": 216,
   "metadata": {},
   "outputs": [],
   "source": [
    "## Environnement Python\n",
    "################################################# \n",
    "import numpy as np\n",
    "import scipy\n",
    "import time\n",
    "##############\n",
    "%matplotlib inline\n",
    "from matplotlib import cm\n",
    "import matplotlib.pyplot as plt\n",
    "from mpl_toolkits.mplot3d import axes3d  # Fonction pour la 3D\n",
    "from mpl_toolkits.mplot3d import proj3d\n",
    "from mpl_toolkits import mplot3d\n",
    "#############\n",
    "from scipy.optimize import minimize\n",
    "from scipy.optimize import root\n",
    "import scipy.optimize as spop\n",
    "from scipy import linalg\n"
   ]
  },
  {
   "cell_type": "markdown",
   "metadata": {},
   "source": [
    "## Calcul du MGD\n"
   ]
  },
  {
   "cell_type": "code",
   "execution_count": 31,
   "metadata": {},
   "outputs": [],
   "source": [
    "#################################################   \n",
    "# Calcul du MGD du robot RRR\n",
    "# INPUT:  q = vecteur de configuration (deg, deg, deg)\n",
    "# OUTPUT: Xc = vecteur de situation = position3D = (x,y,z) \n",
    "def mgd(qdeg,a,b):\n",
    "    qrad=np.deg2rad(qdeg)\n",
    "    c1= np.cos(qrad[0])\n",
    "    s1=np.sin(qrad[0])\n",
    "    c23= np.cos(qrad[2]+qrad[1])\n",
    "    s23= np.sin(qrad[2]+qrad[1])\n",
    "    c2=np.cos(qrad[1])\n",
    "    s2=np.sin(qrad[1])\n",
    "    x= a*c1*c2 + b*c1*c23\n",
    "    y= a*s1*c2 + b*s1*c23\n",
    "    z= a*s2 + b*s23\n",
    "    Xd=[x,y,z]\n",
    "    return Xd"
   ]
  },
  {
   "cell_type": "markdown",
   "metadata": {},
   "source": [
    "### Test du MGD"
   ]
  },
  {
   "cell_type": "code",
   "execution_count": 11,
   "metadata": {},
   "outputs": [
    {
     "name": "stdout",
     "output_type": "stream",
     "text": [
      "X= 6.123233995736766e-17 Y =  1.0 Z=  1.0\n"
     ]
    }
   ],
   "source": [
    "##### INPUT de q en degré ###\n",
    "qdeg = [90, 0, 90]\n",
    "Xd= mgd(qdeg,1,1)\n",
    "print(\"X=\", Xd[0], \"Y = \", Xd[1], \"Z= \",Xd[2])"
   ]
  },
  {
   "cell_type": "markdown",
   "metadata": {},
   "source": [
    "## Calcul de la Jacobienne analytique Ja(q)"
   ]
  },
  {
   "cell_type": "code",
   "execution_count": 12,
   "metadata": {},
   "outputs": [],
   "source": [
    "#################################################   \n",
    "# Calcul de J(q) du robot RRR\n",
    "# INPUT:  q = vecteur de configuration (deg, deg, deg)\n",
    "# OUTPUT: jacobienne(q) analytique:\n",
    "def ja(qdeg,a,b):\n",
    "#### Paramètres du robot\n",
    "    a,b=10,10\n",
    "    qrad=np.deg2rad(qdeg)\n",
    "    c1= np.cos(qrad[0])\n",
    "    s1=np.sin(qrad[0])\n",
    "    c23= np.cos(qrad[2]+qrad[1])\n",
    "    s23= np.sin(qrad[2]+qrad[1])\n",
    "    c2=np.cos(qrad[1])\n",
    "    s2=np.sin(qrad[1])\n",
    " \n",
    "    Ja=np.array([[-a*s1*c2 -b*s1*c23, -a*c1*s2 -b*c1*s23,  -b*c1*s23], \n",
    "                [a*c1*c2 + b*c1*c23, -a*s1*s2 -b*s1*s23,  -b*s1*s23], \n",
    "                 [0, a*c2 + b*c23, b*c23]])\n",
    "\n",
    "    return Ja"
   ]
  },
  {
   "cell_type": "markdown",
   "metadata": {},
   "source": [
    "### Test de J"
   ]
  },
  {
   "cell_type": "code",
   "execution_count": 13,
   "metadata": {},
   "outputs": [
    {
     "name": "stdout",
     "output_type": "stream",
     "text": [
      "Ja= [[-1.000000e+01 -6.123234e-16 -6.123234e-16]\n",
      " [ 6.123234e-16 -1.000000e+01 -1.000000e+01]\n",
      " [ 0.000000e+00  1.000000e+01  6.123234e-16]]\n"
     ]
    }
   ],
   "source": [
    "qdeg = [90, 0, 90]\n",
    "Ja=ja(qdeg,1,1)\n",
    "print(\"Ja=\",Ja)"
   ]
  },
  {
   "cell_type": "markdown",
   "metadata": {},
   "source": [
    "### Dessin du robot en 3D (filaire)"
   ]
  },
  {
   "cell_type": "code",
   "execution_count": 197,
   "metadata": {},
   "outputs": [],
   "source": [
    "def dessinRRR(q,a,b) :\n",
    "    qrad=np.deg2rad(q)\n",
    "    c1= np.cos(qrad[0])\n",
    "    s1=np.sin(qrad[0])\n",
    "    c23= np.cos(qrad[2]+qrad[1])\n",
    "    s23= np.sin(qrad[2]+qrad[1])\n",
    "    c2=np.cos(qrad[1])\n",
    "    s2=np.sin(qrad[1])\n",
    "    \n",
    "    X=[0, a*c1*c2, a*c1*c2 + b*c1*c23]\n",
    "    Y=[0, a*s1*c2, a*s1*c2 + b*s1*c23]\n",
    "    Z=[0, a*s2, a*s2 + b*s23]\n",
    "    fig = plt.figure()\n",
    "    ax = fig.add_subplot(projection='3d')  # Affichage en 3D\n",
    "    ax.plot3D(X,Y,Z, 'red')\n",
    "    \n",
    "    plt.title(\"Tracé filaire\")\n",
    "    ax.set_xlabel('X')\n",
    "    ax.set_ylabel('Y')\n",
    "    ax.set_zlabel('Z')\n",
    "    ax.scatter(X,Y,Z, c=\"red\")\n",
    "    plt.show()"
   ]
  },
  {
   "cell_type": "markdown",
   "metadata": {},
   "source": [
    "### Affichage du robot en 3D"
   ]
  },
  {
   "cell_type": "code",
   "execution_count": 7,
   "metadata": {},
   "outputs": [],
   "source": [
    "%matplotlib qt\n",
    "dessinRRR(qdeg,5,5)"
   ]
  },
  {
   "cell_type": "code",
   "execution_count": 8,
   "metadata": {},
   "outputs": [],
   "source": [
    "%matplotlib inline"
   ]
  },
  {
   "cell_type": "markdown",
   "metadata": {},
   "source": [
    "# ==========================================="
   ]
  },
  {
   "cell_type": "markdown",
   "metadata": {},
   "source": [
    "# Travail à faire\n",
    "\n",
    "Vous devez définir et implémenter la fonction de calcul du mgi: \n",
    "\n",
    "$[q_{sol}]= mgi(X_d, q_0, Nbmax, \\epsilon$) \n",
    "\n",
    "avec \n",
    "\n",
    "- $X_d$ situation désirée, \n",
    "- $q_0$ configuration initiale du robot,\n",
    "- $Nbmax$ nombre maximum d'itérations, \n",
    "- $\\epsilon$ précision du calcul de la solution.\n",
    "\n",
    "en utilisant une des méthodes proposées."
   ]
  },
  {
   "cell_type": "markdown",
   "metadata": {},
   "source": [
    "## 1 - Méthode du gradient\n",
    "\n",
    "On utilise la méthode du gradient pour minimiser un critère $C(q)= \\frac{1}{2} \\; e^t.e = \\frac{1}{2} \\; \\left\\lVert e \\right\\rVert^{2}$ avec $e= X_d -f(q)$, $f(q)$ correspond au MGD en $q$.\n",
    "\n",
    "- Montrer que $direction = -\\nabla C(q) = J(q)^t . e$.\n",
    "\n",
    "- Implémenter la méthode du gradient pour résoudre le  MGI. Tester pour différentes conditions initiales (proches/loin de la solution, proches/loin de singularités. On choisira un coefficient $pas = 0.5$, puis on le fera varier. Quel coefficient semble le plus approprié ? \n",
    "- Tracer la variation de l'erreur. Comment régler le pas afin de garantir une convergence du gradient ? \n",
    "- Proposer et implémenter une solution de calcul automatique du pas.\n",
    "- Modifer la longueur des corps (a = 1 ou 10, b = 1 ou 10). Avez-vous le même résultat ?\n",
    "- Conclusions"
   ]
  },
  {
   "cell_type": "code",
   "execution_count": 14,
   "metadata": {},
   "outputs": [
    {
     "name": "stdout",
     "output_type": "stream",
     "text": [
      "Xbut= 1.0 Ybut = 0.0 Zbut = -1.0\n"
     ]
    }
   ],
   "source": [
    "###################################################################################\n",
    "# Afin de donner une situation atteignable pour le robot,\n",
    "# vous pouvez utiliser le mgd pour définir Xbut à partir d'une configuration en q\n",
    "###################################################################################\n",
    "## qbut est donné en degré\n",
    "qbut= [0., 0,  -90.]\n",
    "## Calcul Xbut à partir de qbut\n",
    "Xbut= np.asarray(mgd(qbut,1,1))\n",
    "print(\"Xbut=\", Xbut[0], \"Ybut =\", Xbut[1], \"Zbut =\", Xbut[2])"
   ]
  },
  {
   "cell_type": "code",
   "execution_count": 65,
   "metadata": {},
   "outputs": [
    {
     "name": "stdout",
     "output_type": "stream",
     "text": [
      "[ 0.02830878  0.03955691 -0.04801167]\n",
      "0.002335628438532612\n",
      "[]\n"
     ]
    }
   ],
   "source": [
    "a,b= 1,1\n",
    "# Définition de Xbut\n",
    "qbut= np.asarray([118., 22,  48.])\n",
    "Xbut= np.asarray(mgd(qbut,a,b))\n",
    "qinit=np.asarray([120., 25,  45.])\n",
    "f=mgd(qinit,a,b)\n",
    "e=Xbut-mgd(qinit,1,1)\n",
    "print(e)\n",
    "Cq=1/2*np.dot(e.transpose()*e)\n",
    "print(Cq)\n",
    "print(np.gradient(Cq))"
   ]
  },
  {
   "cell_type": "code",
   "execution_count": 82,
   "metadata": {},
   "outputs": [
    {
     "name": "stdout",
     "output_type": "stream",
     "text": [
      "[0.00040069 0.00078237 0.00115256]\n"
     ]
    },
    {
     "data": {
      "text/plain": [
       "array([0.00038168, 0.00037593, 0.00037019])"
      ]
     },
     "execution_count": 82,
     "metadata": {},
     "output_type": "execute_result"
    }
   ],
   "source": [
    "a,b= 1,1\n",
    "# Définition de Xbut\n",
    "qbut= np.asarray([118., 22,  48.])\n",
    "Xbut= np.asarray(mgd(qbut,a,b))\n",
    "qinit=np.asarray([120., 25,  45.])\n",
    "f=mgd(qinit,a,b)\n",
    "e=Xbut-mgd(qinit,1,1)\n",
    "e=np.array(e)\n",
    "v=np.array([1,2,3,4])\n",
    "# print(v.transpose())\n",
    "# print(v)\n",
    "# print(e.T)\n",
    "# print(e)\n",
    "Cq=1/2*e.transpose()*e\n",
    "print(Cq)\n",
    "np.gradient(Cq)"
   ]
  },
  {
   "cell_type": "code",
   "execution_count": 29,
   "metadata": {},
   "outputs": [],
   "source": [
    "def mgi(qinit):\n",
    "    return np.linalg.inv(ja(qinit,1,1))"
   ]
  },
  {
   "cell_type": "code",
   "execution_count": 53,
   "metadata": {},
   "outputs": [],
   "source": [
    "########### A FAIRE ##################################  \n",
    "def direction(qinit,Xd):\n",
    "    e=Xd-mgd(qinit,1,1)\n",
    "    Ja=ja(qinit,1,1)\n",
    "    dir = np.dot(Ja.transpose(),e)\n",
    "    # print(dir)\n",
    "    return dir\n",
    "a,b= 1,1\n",
    "# Définition de Xbut\n",
    "qbut= np.asarray([118., 22,  48.])\n",
    "Xbut= np.asarray(mgd(qbut,a,b))\n",
    "qinit=np.asarray([120., 25,  45.])\n",
    "dire=direction(qinit,Xbut)"
   ]
  },
  {
   "cell_type": "code",
   "execution_count": 177,
   "metadata": {},
   "outputs": [],
   "source": [
    "########## A FAIRE ###########################\n",
    "def pas():\n",
    "    p=580\n",
    "    return p"
   ]
  },
  {
   "cell_type": "code",
   "execution_count": 160,
   "metadata": {},
   "outputs": [
    {
     "name": "stdout",
     "output_type": "stream",
     "text": [
      "Xbut= [-0.59585518  1.12064061  1.31429921] <class 'numpy.ndarray'>\n",
      "Xinit =  [-0.62416397  1.0810837   1.36231088]\n",
      "Valeur finale du critère =X 9.924715584655647e-08  après  268  itérations\n",
      "Xinit              = [-0.62416397  1.0810837   1.36231088]\n",
      "Xfinal avec qfinal =  [-0.5958552135469393, 1.1206406696323186, 1.3142992916062726]\n",
      "Xbut à atteindre   = [-0.59585518  1.12064061  1.31429921]\n"
     ]
    },
    {
     "data": {
      "image/png": "[encoded data removed]",
      "text/plain": [
       "<Figure size 640x480 with 1 Axes>"
      ]
     },
     "metadata": {},
     "output_type": "display_data"
    }
   ],
   "source": [
    "######### CALCUL DU MGI A FAIRE ################\n",
    "# Définir les paramètres du robot\n",
    "a,b= 1,1\n",
    "# Définition de Xbut\n",
    "qbut= np.asarray([118., 22,  48.])\n",
    "Xbut= np.asarray(mgd(qbut,a,b))\n",
    "print(\"Xbut=\", Xbut, type(Xbut))\n",
    "#Initialisation de la recherche\n",
    "qinit=np.asarray([120., 25,  45.])\n",
    "Xinit=np.asarray(mgd(qinit,a,b))\n",
    "print(\"Xinit = \",Xinit)\n",
    "#\n",
    "# Algo de recherche de la solution\n",
    "err = np.linalg.norm(qinit)\n",
    "qavant = qinit\n",
    "listeerr=[]\n",
    "Nb=0\n",
    "while (err > 0.0000001 and Nb < 100000):\n",
    "    dir=direction(qavant,Xbut) \n",
    "    # print(qavant)\n",
    "    qsuiv=qavant+np.dot(pas(),dir)\n",
    "    # print(qsuiv)\n",
    "    err=np.linalg.norm(Xbut-mgd(np.asarray(qsuiv),1,1))\n",
    "    qavant=qsuiv\n",
    "    listeerr.append(err)\n",
    "    Nb=Nb+1\n",
    "    # err = np.linalg.norm(err)\n",
    "    # print(err)\n",
    "\n",
    "# plt.plot(abs,listeerr,'k')\n",
    "# plt.show(block=True)\n",
    "\n",
    "# print(qsuiv)\n",
    "# print(err)\n",
    "    # qsuiv[0] = qavant[0]+pas(0.5)*direction(qavant[0],Xbut)\n",
    "    # qsuiv[1] = qavant[1]+pas(0.5)*direction(qavant[1],Xbut)\n",
    "    # qsuiv[2] = qavant[2]+pas(0.5)*direction(qavant[2],Xbut)\n",
    "#\n",
    "# qc = mgi(qinit) #valeur finale retournée par MGI\n",
    "# Visualisation des résultats (quelques idées, faire une courbe \n",
    "# qui montre l'évolution de l'erreur)\n",
    "print(\"Valeur finale du critère =X\",listeerr[-1],\" après \",Nb,\" itérations\")\n",
    "X= mgd(qavant,a,b)\n",
    "print(\"Xinit              =\",Xinit)\n",
    "print(\"Xfinal avec qfinal = \",X)\n",
    "print(\"Xbut à atteindre   =\", Xbut)\n",
    "\n",
    "# print(\"Erreur finale=\",erx)\n",
    "abs = np.linspace(0,len(listeerr)-1,(len(listeerr)))\n",
    "\n",
    "plt.plot(abs,listeerr,'k')\n",
    "plt.show(block=True)\n"
   ]
  },
  {
   "cell_type": "markdown",
   "metadata": {},
   "source": [
    "## 2 - Méthode de Newton\n",
    "\n",
    "On utilise le schéma de Newton pour calculer le MGI du robot en cherchant le zéro de la fonction:\n",
    "\n",
    "$H(q) = X_d - f(q)$ \n",
    "\n",
    "pour une situation désirée $X_d = (x, y,\\theta)^t$ avec $f(q)$ qui correspond au MGD en $q$.\n",
    "Ce schéma impose de calculer l'inverse de la jacobienne analytique.\n",
    "\n",
    "- Montrer que $ direction = J(q)^{-1} . (X_d - f(q)) $.\n",
    "- Implémenter la méthode de Newton en python pour résoudre le MGI. Tester pour différentes conditions initiales(proches/loin de la solution, proches/loin de singularités. Modifier la valeur du $pas$. Faire varier  $N_{max}$ et $\\epsilon$.\n",
    "- Tracer la variation de l'erreur. Conclusions.\n"
   ]
  },
  {
   "cell_type": "markdown",
   "metadata": {},
   "source": []
  },
  {
   "cell_type": "code",
   "execution_count": 81,
   "metadata": {},
   "outputs": [
    {
     "name": "stdout",
     "output_type": "stream",
     "text": [
      "[-0.00354831 -0.00540804  0.00570095]\n"
     ]
    }
   ],
   "source": [
    "################################################  \n",
    "# calcul de la direction\n",
    "def direction_n(qinit,Xd,F,a,b):\n",
    "    Jacobian = ja(qinit, a, b)\n",
    "    JacobianInv = np.linalg.pinv(Jacobian)\n",
    "    direction = np.dot(JacobianInv, (Xd - F))\n",
    "    return direction\n",
    "a,b=1,1\n",
    "qbut= np.asarray([118., 22,  48.])\n",
    "Xd= np.asarray(mgd(qbut,a,b))\n",
    "qinit=np.asarray([120., 25,  45.])\n",
    "F=mgd(qinit,a,b)\n",
    "dir=direction_n(qinit,Xd,F,a,b)\n",
    "print(dir)"
   ]
  },
  {
   "cell_type": "code",
   "execution_count": null,
   "metadata": {},
   "outputs": [],
   "source": [
    "#################################################\n",
    "# calcul du pas\n"
   ]
  },
  {
   "cell_type": "code",
   "execution_count": 158,
   "metadata": {},
   "outputs": [
    {
     "name": "stdout",
     "output_type": "stream",
     "text": [
      "Xbut= [-0.59585518  1.12064061  1.31429921] <class 'numpy.ndarray'>\n",
      "Xinit =  [-0.62416397  1.0810837   1.36231088]\n",
      "Valeur finale du critère =X 4.12766746926096e-09  après  4  itérations\n",
      "Xinit              = [-0.62416397  1.0810837   1.36231088]\n",
      "Xfinal avec qfinal =  [-0.595855188059713, 1.1206406159946765, 1.314299215640912]\n",
      "Xbut à atteindre   = [-0.59585518  1.12064061  1.31429921]\n"
     ]
    },
    {
     "data": {
      "image/png": "[encoded data removed]",
      "text/plain": [
       "<Figure size 640x480 with 1 Axes>"
      ]
     },
     "metadata": {},
     "output_type": "display_data"
    }
   ],
   "source": [
    "######### CALCUL DU MGI A FAIRE ################\n",
    "# Définir les paramètres du robot\n",
    "a,b= 1,1\n",
    "# Définition de Xbut\n",
    "qbut= np.asarray([118., 22,  48.])\n",
    "Xbut= np.asarray(mgd(qbut,a,b))\n",
    "print(\"Xbut=\", Xbut, type(Xbut))\n",
    "#Initialisation de la recherche\n",
    "qinit=np.asarray([120., 25,  45.])\n",
    "Xinit=np.asarray(mgd(qinit,a,b))\n",
    "print(\"Xinit = \",Xinit)\n",
    "#\n",
    "# Algo de recherche de la solution\n",
    "err = np.linalg.norm(qinit)\n",
    "qavant = qinit\n",
    "listeerr=[]\n",
    "Nb=0\n",
    "while (err > 0.0000001 and Nb < 10000):\n",
    "    F=mgd(qavant,a,b)\n",
    "    dir=direction_n(qavant,Xbut,F,1,1) \n",
    "    # print(qavant)\n",
    "    qsuiv=qavant+np.dot(pas(),dir)\n",
    "    # print(qsuiv)\n",
    "    err=np.linalg.norm(Xbut-mgd(np.asarray(qsuiv),1,1))\n",
    "    qavant=qsuiv\n",
    "    listeerr.append(err)\n",
    "    Nb=Nb+1\n",
    "    # err = np.linalg.norm(err)\n",
    "    # print(err)\n",
    "\n",
    "# plt.plot(abs,listeerr,'k')\n",
    "# plt.show(block=True)\n",
    "\n",
    "# print(qsuiv)\n",
    "# print(err)\n",
    "    # qsuiv[0] = qavant[0]+pas(0.5)*direction(qavant[0],Xbut)\n",
    "    # qsuiv[1] = qavant[1]+pas(0.5)*direction(qavant[1],Xbut)\n",
    "    # qsuiv[2] = qavant[2]+pas(0.5)*direction(qavant[2],Xbut)\n",
    "#\n",
    "# qc = mgi(qinit) #valeur finale retournée par MGI\n",
    "# Visualisation des résultats (quelques idées, faire une courbe \n",
    "# qui montre l'évolution de l'erreur)\n",
    "print(\"Valeur finale du critère =X\",listeerr[-1],\" après \",Nb,\" itérations\")\n",
    "X= mgd(qavant,a,b)\n",
    "print(\"Xinit              =\",Xinit)\n",
    "print(\"Xfinal avec qfinal = \",X)\n",
    "print(\"Xbut à atteindre   =\", Xbut)\n",
    "\n",
    "# print(\"Erreur finale=\",erx)\n",
    "abs = np.linspace(0,len(listeerr)-1,(len(listeerr)))\n",
    "\n",
    "plt.plot(abs,listeerr,'k')\n",
    "plt.show(block=True)\n"
   ]
  },
  {
   "cell_type": "markdown",
   "metadata": {},
   "source": [
    "# Conclusion\n",
    "\n",
    "Donner vos conclusion sur l'utilisation de techniques de PNL pour le calcul de solutions de MGI"
   ]
  },
  {
   "cell_type": "markdown",
   "metadata": {},
   "source": [
    "## 3 - Génération de mouvement en ligne droite\n",
    "\n",
    "Réaliser un programme qui utilise le calcul numérique du MGI pour faire déplacer le robot en ligne droite entre deux points $A$ et $B$ définis dans l'espce de travail 3D.\n",
    "\n",
    "A la situation initiale on connaît toujours la configuration $\\bf{q}_0$ du robot (lecture des valeurs des codeurs).\n",
    "\n",
    "Il faudra échantillonner le segment $AB$ pour définir les situations intermédiaire à atteindre.\n",
    "\n",
    "Donner vos conclusions en fonction des points $A$ et $B$ et de la valeur de votre échantillonnage.\n"
   ]
  },
  {
   "cell_type": "code",
   "execution_count": 194,
   "metadata": {},
   "outputs": [],
   "source": [
    "def mgi(Xbut,qavant,err_voulu,N):\n",
    "    qavant = qinit\n",
    "    err = np.linalg.norm(liste[i])\n",
    "    listeerr=[]\n",
    "    Nb=0\n",
    "    while (err > err_voulu and Nb < N):\n",
    "        F=mgd(qavant,a,b)\n",
    "        dir=direction_n(qavant,Xbut,F,1,1) \n",
    "        qsuiv=qavant+np.dot(pas(),dir)\n",
    "        err=np.linalg.norm(Xbut-mgd(np.asarray(qsuiv),1,1))\n",
    "        qavant=qsuiv\n",
    "        listeerr.append(err)\n",
    "        Nb=Nb+1\n",
    "    return qavant"
   ]
  },
  {
   "cell_type": "code",
   "execution_count": 217,
   "metadata": {},
   "outputs": [
    {
     "name": "stdout",
     "output_type": "stream",
     "text": [
      "Xbut= [-0.21676987  1.22936302  1.36231088] <class 'numpy.ndarray'>\n",
      "[array([120.,  25.,  45.]), array([119.,  25.,  45.]), array([118.,  25.,  45.]), array([117.,  25.,  45.]), array([116.,  25.,  45.]), array([115.,  25.,  45.]), array([114.,  25.,  45.]), array([113.,  25.,  45.]), array([112.,  25.,  45.]), array([111.,  25.,  45.]), array([110.,  25.,  45.]), array([109.,  25.,  45.]), array([108.,  25.,  45.]), array([107.,  25.,  45.]), array([106.,  25.,  45.]), array([105.,  25.,  45.]), array([104.,  25.,  45.]), array([103.,  25.,  45.]), array([102.,  25.,  45.]), array([101.,  25.,  45.]), array([100.,  25.,  45.])]\n",
      "21\n",
      "[array([118.99999813,  24.99999924,  45.00000285]), array([118.00000005,  25.00000003,  44.99999987]), array([117.00000007,  25.00000005,  44.99999974]), array([116.0000001 ,  25.00000005,  44.99999961]), array([115.00000013,  24.99999999,  44.99999956]), array([114.00000017,  24.99999983,  44.99999964]), array([113.00000021,  24.99999951,  44.99999996]), array([112.00000024,  24.99999898,  45.00000061]), array([111.00000028,  24.99999818,  45.00000169]), array([110.0000003 ,  24.99999704,  45.00000331]), array([109.00000032,  24.99999552,  45.00000554]), array([108.00000031,  24.99999355,  45.00000847]), array([107.        ,  25.00000011,  44.99999985]), array([106.        ,  25.00000015,  44.9999998 ]), array([105.        ,  25.00000019,  44.99999974]), array([104.        ,  25.00000023,  44.99999967]), array([103.        ,  25.00000028,  44.99999961]), array([102.00000001,  25.00000033,  44.99999955]), array([101.00000002,  25.00000038,  44.99999951]), array([100.00000003,  25.00000042,  44.99999949])]\n"
     ]
    }
   ],
   "source": [
    "# Définir les paramètres du robot\n",
    "a,b= 1,1\n",
    "nb_echantillonage=20\n",
    "Nb=10000\n",
    "err_voulu = 0.0000001\n",
    "# Définition de Xbut\n",
    "qbut= np.asarray([100., 25,  45.])\n",
    "Xbut= np.asarray(mgd(qbut,a,b))\n",
    "\n",
    "print(\"Xbut=\", Xbut, type(Xbut))\n",
    "#Initialisation de la recherche\n",
    "\n",
    "qinit=np.asarray([120., 25,  45.])\n",
    "Xinit=np.asarray(mgd(qinit,a,b))\n",
    "\n",
    "qdiff = qbut-qinit\n",
    "qdiff = qdiff/nb_echantillonage\n",
    "# print(qdiff)\n",
    "liste = []\n",
    "qint=qinit\n",
    "if np.linalg.norm(qinit) > np.linalg.norm(qbut):\n",
    "    while np.linalg.norm(qint) >= np.linalg.norm(qbut) :\n",
    "        # print(qint)\n",
    "        liste.append(qint)\n",
    "        qint = qint+ qdiff\n",
    "        \n",
    "else:\n",
    "    while np.linalg.norm(qint) <= np.linalg.norm(qbut) :\n",
    "        # print(qint)\n",
    "        liste.append(qint)\n",
    "        qint = qint+ qdiff\n",
    "        \n",
    "print(liste)\n",
    "print(len(liste))\n",
    "\n",
    "liste_resultat=[]\n",
    "\n",
    "for i in range(0,len(liste)-1):\n",
    "    liste_resultat.append(mgi(np.asarray(mgd(liste[i+1],a,b)),liste[i],err_voulu,Nb))\n",
    "print(liste_resultat)\n",
    "    \n",
    "ax = plt.axes(projection='3d')\n",
    "\n",
    "\n",
    "for i in liste_resultat:\n",
    "    X_resultat = mgd(i,1,1)\n",
    "    ax.plot3D(X_resultat[0], X_resultat[1], X_resultat[2], 'gray')\n",
    "    # print(mgd(i,a,b))\n",
    "    # plt.plot(X_resultat[0], X_resultat[1])\n",
    "    # dessinRRR(i,1,1)\n",
    "\n",
    "\n",
    "plt.close('all')"
   ]
  }
 ],
 "metadata": {
  "interpreter": {
   "hash": "bbc2ed3a8a2dee35b18e38b3ef06bdb872cfcf66a777cd2986d2236d6841a89a"
  },
  "kernelspec": {
   "display_name": "Python 3.11.4 ('base')",
   "language": "python",
   "name": "python3"
  },
  "language_info": {
   "codemirror_mode": {
    "name": "ipython",
    "version": 3
   },
   "file_extension": ".py",
   "mimetype": "text/x-python",
   "name": "python",
   "nbconvert_exporter": "python",
   "pygments_lexer": "ipython3",
   "version": "3.11.4"
  }
 },
 "nbformat": 4,
 "nbformat_minor": 2
}
