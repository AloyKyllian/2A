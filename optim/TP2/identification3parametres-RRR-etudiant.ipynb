{
 "cells": [
  {
   "cell_type": "markdown",
   "metadata": {},
   "source": [
    "\n",
    "#            TP Identification de paramètres d'un robot RRR par techniques des moindres carrées #\n",
    "\n"
   ]
  },
  {
   "cell_type": "markdown",
   "metadata": {},
   "source": [
    "Soit le robot RRR correspondant à la figure suivante:"
   ]
  },
  {
   "cell_type": "markdown",
   "metadata": {},
   "source": [
    "![alternative text](robot-rrr3-sol.png)"
   ]
  },
  {
   "cell_type": "markdown",
   "metadata": {},
   "source": [
    "- La configuration du robot est défini par le vecteur $q = (q_1, q_2, q_3)^t$.\n",
    "\n",
    "- La situation de l'outil est défini par le vecteur $X = (x, y, z)^t$ ."
   ]
  },
  {
   "cell_type": "markdown",
   "metadata": {},
   "source": [
    "## Objectif\n",
    "L'objectif est d'identifier certains paramètres géométriques du robot plan RRR.\n",
    "\n",
    "A l'aide d'une caméra, on a mesuré le vecteur $X$ pour un ensemble de configurations $q$. On considère que toutes les mesures sont exactes (pas d'erreurs liées au système de mesure).\n",
    "\n",
    "Les résultats se trouvent dans les fichier *mesuresX.dat*. Chaque ligne comporte une mesure avec la convention suivante pour les 6 valeurs:\n",
    "\n",
    "$q_1$, $q_2$, $q_3$, x, y, z sur chaque ligne (format %12.6f pour chaque valeur). Les longueurs sont exprimés en mètre.\n",
    "\n",
    "- A: Dans un premier temps on veut identifier les longueurs des liaisons $a$, $b$, $c$ du robot RRR en considérant que les valeurs des angles $q_i$ sont exactes.\n",
    "\n",
    "Fichier de mesure: *mesures1.dat*\n",
    "\n",
    "\n",
    "## Travail\n",
    "\n",
    "Modéliser le problème comme un problème d'optimisation\n",
    "\n",
    "Implémenter votre problème et le résoudre \n"
   ]
  },
  {
   "cell_type": "code",
   "execution_count": 7,
   "metadata": {},
   "outputs": [],
   "source": [
    "#################################################   \n",
    "# Import \n",
    "from matplotlib import cm\n",
    "import matplotlib.pyplot as plt\n",
    "import numpy as np\n",
    "import scipy\n",
    "import time\n",
    "from random import *\n",
    "from numpy.linalg import inv,cond\n",
    "from scipy.optimize import root\n",
    "from scipy.optimize import least_squares"
   ]
  },
  {
   "cell_type": "code",
   "execution_count": 9,
   "metadata": {},
   "outputs": [],
   "source": [
    "#################################################   \n",
    "# Calcul du MGD du robot RRR\n",
    "# INPUT:  q = vecteur de configuration (deg, deg, deg)\n",
    "# OUTPUT: Xc = vecteur de situation = position3D = (x,y,z) \n",
    "def mgd(qdeg,a,b,c):\n",
    "    qrad=np.deg2rad(qdeg)\n",
    "    # introduction d'un eerreur su run qi\n",
    "    # erreur= 5 (en degré)\n",
    "    # erg = np.deg2rad(erreur)\n",
    "    # qrad[i] = qi + erg\n",
    "    c1= np.cos(qrad[0])\n",
    "    s1=np.sin(qrad[0])\n",
    "    c23= np.cos(qrad[2]+qrad[1])\n",
    "    s23= np.sin(qrad[2]+qrad[1])\n",
    "    c2=np.cos(qrad[1])\n",
    "    s2=np.sin(qrad[1])\n",
    "\n",
    "    A=[ [c1*c2, c1*c23, 0],\n",
    "        [s1*c2, s2*c23, 0],\n",
    "        [s2   , s23   , 1]]\n",
    "    x= a*c1*c2 + b*c1*c23 \n",
    "    y= a*s1*c2 + b*s1*c23 \n",
    "    z= a*s2 + b*s23 + c \n",
    "    Xd=[x,y,z]\n",
    "    return (Xd,A)\n",
    "\n",
    "#"
   ]
  },
  {
   "cell_type": "code",
   "execution_count": 10,
   "metadata": {},
   "outputs": [],
   "source": [
    "# Lecture mesures de fichier\n",
    "\n",
    "with open(\"mesures1.dat\", \"r\") as f:\n",
    "    line= list()\n",
    "\n",
    "    donnees= list()\n",
    "    xdata= list()\n",
    "    qdata= list()\n",
    "    q1data= list()\n",
    "    q2data= list()\n",
    "    q3data= list()\n",
    "    for line in f:\n",
    "        if \"#\" in line:\n",
    "            # on saute la ligne\n",
    "            continue\n",
    "        data = line.split()\n",
    "        donnees.append((float(data[0]), float(data[1]),float(data[2]), float(data[3]), float(data[4]),float(data[5])))\n",
    "        xdata.append([float(data[3]), float(data[4]),float(data[5])])\n",
    "        qdata.append([float(data[0]), float(data[1]),float(data[2])])\n",
    "        q1data.append(float(data[0]))\n",
    "        q2data.append(float(data[1]))\n",
    "        q3data.append(float(data[2]))\n",
    "#donnees\n",
    "#xdata\n"
   ]
  },
  {
   "cell_type": "code",
   "execution_count": 18,
   "metadata": {},
   "outputs": [
    {
     "ename": "TypeError",
     "evalue": "bad operand type for unary -: 'list'",
     "output_type": "error",
     "traceback": [
      "\u001b[1;31m---------------------------------------------------------------------------\u001b[0m",
      "\u001b[1;31mTypeError\u001b[0m                                 Traceback (most recent call last)",
      "Cell \u001b[1;32mIn[18], line 7\u001b[0m\n\u001b[0;32m      5\u001b[0m X \u001b[38;5;241m=\u001b[39m [\u001b[38;5;241m1\u001b[39m,\u001b[38;5;241m1\u001b[39m,\u001b[38;5;241m1\u001b[39m]\n\u001b[0;32m      6\u001b[0m \u001b[38;5;28;01mfor\u001b[39;00m i \u001b[38;5;129;01min\u001b[39;00m \u001b[38;5;28mrange\u001b[39m(\u001b[38;5;241m0\u001b[39m,\u001b[38;5;28mlen\u001b[39m(qdata)):\n\u001b[1;32m----> 7\u001b[0m     \u001b[38;5;28;01mwhile\u001b[39;00m np\u001b[38;5;241m.\u001b[39mlinalg\u001b[38;5;241m.\u001b[39mnorm(\u001b[38;5;241m-\u001b[39mmgd(qdata[i],X[\u001b[38;5;241m0\u001b[39m],X[\u001b[38;5;241m1\u001b[39m],X[\u001b[38;5;241m2\u001b[39m])[\u001b[38;5;241m0\u001b[39m] \u001b[38;5;241m+\u001b[39m xdata[i]) \u001b[38;5;241m>\u001b[39m \u001b[38;5;241m1\u001b[39m :\n\u001b[0;32m      8\u001b[0m         A\u001b[38;5;241m=\u001b[39m np\u001b[38;5;241m.\u001b[39marray(mgd(qdata[i],X[\u001b[38;5;241m0\u001b[39m],X[\u001b[38;5;241m1\u001b[39m],X[\u001b[38;5;241m2\u001b[39m])[\u001b[38;5;241m1\u001b[39m])\n\u001b[0;32m      9\u001b[0m         b \u001b[38;5;241m=\u001b[39m np\u001b[38;5;241m.\u001b[39marray(xdata[i])\n",
      "\u001b[1;31mTypeError\u001b[0m: bad operand type for unary -: 'list'"
     ]
    }
   ],
   "source": [
    "\n",
    "\n",
    "a,b,c=1,1,1\n",
    "r=[]\n",
    "A= []\n",
    "b=[]\n",
    "X = [1,1,1]\n",
    "for i in range(0,len(qdata)):\n",
    "    while np.linalg.norm(-mgd(qdata[i],X[0],X[1],X[2])[0] + xdata[i]) > 1 :\n",
    "        A= np.array(mgd(qdata[i],X[0],X[1],X[2])[1])\n",
    "        b = np.array(xdata[i])\n",
    "        print(A)\n",
    "        print(b)\n",
    "        X = np.dot(np.linalg.inv(A.transpose()*A) * A.transpose() , b)\n",
    "        print(X)\n",
    "        # A.append(-mgd(qdata[i],a,b,c))\n",
    "        \n",
    "        # r.append(-mgd(qdata[i],a,b,c) + xdata[i])\n",
    "\n",
    "\n",
    "print(X)\n",
    "# Calcul de a, b et c\n",
    "\n",
    "# print(\"a=\", \"b=\", ,\"c=\", )"
   ]
  },
  {
   "cell_type": "markdown",
   "metadata": {},
   "source": [
    "### Test du MGD après identification\n",
    "\n",
    "Vérifier que votre identification des longueurs $a$, $b$ et $c$ est correcte."
   ]
  },
  {
   "cell_type": "code",
   "execution_count": null,
   "metadata": {},
   "outputs": [],
   "source": []
  },
  {
   "cell_type": "markdown",
   "metadata": {},
   "source": [
    "## Utilisation de scipy optimize\n",
    "\n",
    "Retrouver vos résultats en utilisant directement les fonctions de scipy optimize"
   ]
  },
  {
   "cell_type": "code",
   "execution_count": null,
   "metadata": {},
   "outputs": [],
   "source": []
  }
 ],
 "metadata": {
  "interpreter": {
   "hash": "bbc2ed3a8a2dee35b18e38b3ef06bdb872cfcf66a777cd2986d2236d6841a89a"
  },
  "kernelspec": {
   "display_name": "Python 3.11.4 ('base')",
   "language": "python",
   "name": "python3"
  },
  "language_info": {
   "codemirror_mode": {
    "name": "ipython",
    "version": 3
   },
   "file_extension": ".py",
   "mimetype": "text/x-python",
   "name": "python",
   "nbconvert_exporter": "python",
   "pygments_lexer": "ipython3",
   "version": "3.11.4"
  }
 },
 "nbformat": 4,
 "nbformat_minor": 2
}
