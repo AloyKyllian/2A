{
 "cells": [
  {
   "cell_type": "code",
   "execution_count": 20,
   "metadata": {},
   "outputs": [],
   "source": [
    "## Environnement Python\n",
    "################################################# \n",
    "import numpy as np\n"
   ]
  },
  {
   "cell_type": "code",
   "execution_count": 21,
   "metadata": {},
   "outputs": [],
   "source": [
    "#################################################   \n",
    "# Calcul du MGD du robot RRR\n",
    "# INPUT:  q = vecteur de configuration (deg, deg, deg)\n",
    "# OUTPUT: Xc = vecteur de situation = position3D = (x,y,z) \n",
    "def mgd(qdeg,a,b):\n",
    "    qrad=np.deg2rad(qdeg)\n",
    "    c1= np.cos(qrad[0])\n",
    "    s1=np.sin(qrad[0])\n",
    "    c23= np.cos(qrad[2]+qrad[1])\n",
    "    s23= np.sin(qrad[2]+qrad[1])\n",
    "    c2=np.cos(qrad[1])\n",
    "    s2=np.sin(qrad[1])\n",
    "#     T01 = [[c1 ,-s1,0,0],\n",
    "#            [s1, c1,0,0],\n",
    "#            [0,  0,1,0],\n",
    "#            [0,0,0,1]]\n",
    "#     T12 = [[c2 ,-s2,0,0],\n",
    "#            [0, 0,-1,0],\n",
    "#            [s2,  c2,0,0],\n",
    "#            [0,0,0,1]]\n",
    "#     T23 = [[c2 ,-s2,0,0],\n",
    "#            [0, 0,-1,0],\n",
    "#            [s2,  c2,0,0],\n",
    "#            [0,0,0,1]]\n",
    "    x= a*c1*c2 + b*c1*c23\n",
    "    y= a*s1*c2 + b*s1*c23\n",
    "    z= a*s2 + b*s23\n",
    "    Xd=[x,y,z]\n",
    "    return Xd"
   ]
  },
  {
   "cell_type": "code",
   "execution_count": 102,
   "metadata": {},
   "outputs": [
    {
     "name": "stdout",
     "output_type": "stream",
     "text": [
      "matrice T 0 1 :\n",
      "[6.123233995736766e-17, -1.0, 0, 0]\n",
      "[1.0, 6.123233995736766e-17, -0.0, -0.0]\n",
      "[0.0, 0.0, 1.0, 152.0]\n",
      "[0, 0, 0, 1]\n",
      "matrice T 1 2 :\n",
      "[1.0, -0.0, 0, 0]\n",
      "[0.0, 6.123233995736766e-17, -1.0, 0.0]\n",
      "[0.0, 1.0, 6.123233995736766e-17, 0.0]\n",
      "[0, 0, 0, 1]\n",
      "matrice T 2 3 :\n",
      "[1.0, -0.0, 0, 244]\n",
      "[0.0, 1.0, -0.0, 0.0]\n",
      "[0.0, 0.0, 1.0, -120.0]\n",
      "[0, 0, 0, 1]\n",
      "matrice T 3 4 :\n",
      "[6.123233995736766e-17, -1.0, 0, 213]\n",
      "[1.0, 6.123233995736766e-17, -0.0, -0.0]\n",
      "[0.0, 0.0, 1.0, 10.0]\n",
      "[0, 0, 0, 1]\n",
      "matrice T 4 5 :\n",
      "[1.0, -0.0, 0, 0]\n",
      "[0.0, 6.123233995736766e-17, -1.0, -83.0]\n",
      "[0.0, 1.0, 6.123233995736766e-17, 5.082284216461516e-15]\n",
      "[0, 0, 0, 1]\n",
      "matrice T 5 6 :\n",
      "[1.0, -0.0, 0, 0]\n",
      "[0.0, 6.123233995736766e-17, 1.0, -0.0]\n",
      "[-0.0, -1.0, 6.123233995736766e-17, 0.0]\n",
      "[0, 0, 0, 1]\n",
      "matrice T 6 7 :\n",
      "[1.0, -0.0, 0, 0]\n",
      "[0.0, 1.0, -0.0, -0.0]\n",
      "[0.0, 0.0, 1.0, 82.0]\n",
      "[0, 0, 0, 1]\n",
      "[-27.99999999999997, 540.0, 152.0]\n"
     ]
    }
   ],
   "source": [
    "a = [0,0,244,213,0,0,0]\n",
    "alpha = [0,np.pi/2,0,0,np.pi/2,-np.pi/2,0]\n",
    "r=[152,0,-120,10,83,0,82]\n",
    "teta = [np.pi/2,0,0,np.pi/2,0,0,0]\n",
    "\n",
    "\n",
    "q=teta\n",
    "        \n",
    "        \n",
    "def mgd_6axes(q):\n",
    "    axe=6\n",
    "    T = []\n",
    "\n",
    "    for i in range(axe+1):\n",
    "        Ti = [[np.cos(q[i]),-np.sin(q[i]),0,a[i]],\n",
    "            [np.cos(alpha[i])*np.sin(q[i]),np.cos(alpha[i])*np.cos(q[i]),-np.sin(alpha[i]),-r[i]*np.sin(alpha[i])],\n",
    "            [np.sin(alpha[i])*np.sin(q[i]),np.sin(alpha[i])*np.cos(q[i]),np.cos(alpha[i]),r[i]*np.cos(alpha[i])],\n",
    "            [0,0,0,1]]\n",
    "        T.append(Ti)\n",
    "    \n",
    "    for i in range(len(T)):\n",
    "        print(\"matrice T\",i,i+1,\":\")\n",
    "        for y in T[i]:\n",
    "            print(y)\n",
    "        \n",
    "    T = np.array(T)\n",
    "    T0e = np.array(T[0])\n",
    "    for i in range(1,len(T)):\n",
    "        T0e = np.dot(T0e,T[i])\n",
    "\n",
    "    \n",
    "    \n",
    "    X = T0e[:3,3]\n",
    "    \n",
    "    return X\n",
    "    \n",
    "\n",
    "q=[np.pi/2,0,0,np.pi/2,0,0,0]\n",
    "[x,y,z] = mgd_6axes(q)\n",
    "print([x,y,z])"
   ]
  },
  {
   "cell_type": "code",
   "execution_count": 106,
   "metadata": {},
   "outputs": [
    {
     "name": "stdout",
     "output_type": "stream",
     "text": [
      "[124.00000000000001, 364.0, 152.00000000000003]\n"
     ]
    }
   ],
   "source": [
    "a = [0,0,244,120]\n",
    "alpha = [0,np.pi/2,0,0]\n",
    "r=[152,0,-120,244]\n",
    "teta = [np.pi/2,0,0,0]\n",
    "\n",
    "q=teta\n",
    "def mgd_3axes(q):\n",
    "    axe = 3\n",
    "    T = []\n",
    "    for i in range(axe+1):\n",
    "        Ti = [[np.cos(q[i]),-np.sin(q[i]),0,a[i]],\n",
    "            [np.cos(alpha[i])*np.sin(q[i]),np.cos(alpha[i])*np.cos(q[i]),-np.sin(alpha[i]),-r[i]*np.sin(alpha[i])],\n",
    "            [np.sin(alpha[i])*np.sin(q[i]),np.sin(alpha[i])*np.cos(q[i]),np.cos(alpha[i]),r[i]*np.cos(alpha[i])],\n",
    "            [0,0,0,1]]\n",
    "        T.append(Ti)\n",
    "    \n",
    "\n",
    "    T = np.array(T)\n",
    "    T0e = np.array(T[0])\n",
    "    for i in range(1,len(T)):\n",
    "        T0e = np.dot(T0e,T[i])\n",
    "    \n",
    "    X = T0e[:3,3]\n",
    "    \n",
    "    return T,X\n",
    "    \n",
    "T,[x,y,z] =mgd_3axes(q)\n",
    "print([x,y,z])"
   ]
  },
  {
   "cell_type": "code",
   "execution_count": 100,
   "metadata": {},
   "outputs": [
    {
     "name": "stdout",
     "output_type": "stream",
     "text": [
      "[296.0, 0.0, 93.0]\n"
     ]
    }
   ],
   "source": [
    "la=213+83\n",
    "lb=93\n",
    "lc=0\n",
    "def mgi(T,X):\n",
    "    X[0]=sum(T[3][0,:3])*la\n",
    "    X[1]=sum(T[3][1,:3])*lc\n",
    "    X[2]=sum(T[3][2,:3])*lb\n",
    "    \n",
    "    print(X)\n",
    "\n",
    "q=teta\n",
    "Oe=[x,y,z]\n",
    "T,[x,y,z] =mgd_3axes(q)\n",
    "mgi(T,Oe)"
   ]
  },
  {
   "cell_type": "code",
   "execution_count": 109,
   "metadata": {},
   "outputs": [
    {
     "name": "stdout",
     "output_type": "stream",
     "text": [
      "Angle 1 (en degrés) : 71.18811069748085\n",
      "Angle 2 (en degrés) : 29.323483687443748\n",
      "Angle 3 (en degrés) : -30.332910908545472\n"
     ]
    }
   ],
   "source": [
    "def mgi(X, Y, Z):\n",
    "    # Longueurs des bras du robot\n",
    "    L1 = 152.0\n",
    "    L2 = 244.0\n",
    "    L3 = 213.0\n",
    "\n",
    "    # Calcule theta1\n",
    "    theta1 = np.arctan2(Y, X)\n",
    "\n",
    "    # Calcule la distance entre l'origine et le point XY\n",
    "    R = np.sqrt(X**2 + Y**2)\n",
    "\n",
    "    # Calcule la hauteur Z par rapport au plan XY\n",
    "    h = Z - 82.0  # 82 est la hauteur par rapport au sol\n",
    "\n",
    "    # Calcule les angles theta2 et theta3 en utilisant la loi des cosinus\n",
    "    # (Adaptez ces calculs en fonction de la géométrie exacte de votre robot)\n",
    "    D = (R**2 + h**2 - L1**2 - L2**2) / (2 * L1 * L2)\n",
    "    theta2 = np.arctan2(np.sqrt(1 - D**2), D) + np.arctan2(h, R)\n",
    "    theta3 = np.arctan2(h - L1 * np.sin(theta2), R - L1 * np.cos(theta2)) - theta2\n",
    "\n",
    "    # Convertit les angles en degrés si nécessaire\n",
    "    theta1_deg = np.degrees(theta1)\n",
    "    theta2_deg = np.degrees(theta2)\n",
    "    theta3_deg = np.degrees(theta3)\n",
    "\n",
    "    return theta1_deg, theta2_deg, theta3_deg\n",
    "\n",
    "# Exemple d'utilisation avec des coordonnées XYZ\n",
    "X,Y,Z =124, 364, 152\n",
    "\n",
    "theta1, theta2, theta3 = mgi(X, Y, Z)\n",
    "print(\"Angle 1 (en degrés) :\", theta1)\n",
    "print(\"Angle 2 (en degrés) :\", theta2)\n",
    "print(\"Angle 3 (en degrés) :\", theta3)\n"
   ]
  }
 ],
 "metadata": {
  "interpreter": {
   "hash": "bbc2ed3a8a2dee35b18e38b3ef06bdb872cfcf66a777cd2986d2236d6841a89a"
  },
  "kernelspec": {
   "display_name": "Python 3.11.4 ('base')",
   "language": "python",
   "name": "python3"
  },
  "language_info": {
   "codemirror_mode": {
    "name": "ipython",
    "version": 3
   },
   "file_extension": ".py",
   "mimetype": "text/x-python",
   "name": "python",
   "nbconvert_exporter": "python",
   "pygments_lexer": "ipython3",
   "version": "3.11.4"
  },
  "orig_nbformat": 4
 },
 "nbformat": 4,
 "nbformat_minor": 2
}
