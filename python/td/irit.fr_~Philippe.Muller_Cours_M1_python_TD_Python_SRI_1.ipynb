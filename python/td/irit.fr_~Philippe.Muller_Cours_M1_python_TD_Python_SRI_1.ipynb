{
 "cells": [
  {
   "cell_type": "markdown",
   "metadata": {},
   "source": [
    "\n",
    "## Exercices de base\n",
    "\n",
    "Ecrire des fonctions faisant les opérations suivantes (sauf mention contraire la fonction renvoie un nouvel objet):\n",
    "\n",
    "   1. prendre une liste et créer une liste sans doublons, dans un premier temps on supposera la première liste triée, puis on considèrera le cas général\n",
    "   [1,2,3,3,4,4] -> [1,2,3,4]\n",
    "   2. prendre une liste de listes d'entiers, retourner la liste \"plate\" des éléments, ex [[1,2],[3,4]] -> [1,2,3,4]\n",
    "   3. extraire d'une liste d'entiers les valeurs consécutives qui se suivent, \n",
    "    par exemple [3,8,9,10,9,15,16] -> [(8,9),(9,10),(15,16)]\n",
    "   4.    Comptez (dans un dictionnaire) le nombre d'occurrence d'éléments contenus dans une liste. Par exemple [\"a\",\"b\",\"a\",\"c\",\"c\"] -> {\"b\":1, \"a\":2, \"c\":2}\n",
    "   5. Faire une table qui enregistre les combinaisons de deux dés à six faces, avec comme clefs la valeur de la somme des deux dés et comme valeurs les combinaisons de deux dés.\n",
    "   6. Faire le crible d'Eratosthène, enregistré dans un dictionnaire : on commence avec comme clefs tous les entiers de 1 à n (fixé), et finalement on ne garde que les clefs qui sont des nombres premiers.\n",
    "   7. Faire l'inversion (clefs/valeurs) d'une table\n",
    "   8. Faire une fonction qui teste si deux mots ont les mêmes lettres; en faire une autre qui teste si ce sont des anagrammes (c'est-à-dire qu'ils ont les mêmes lettres le même nombre de fois).\n",
    "   9. Cryptage / décryptage "
   ]
  },
  {
   "cell_type": "code",
   "execution_count": null,
   "metadata": {
    "collapsed": true
   },
   "outputs": [],
   "source": []
  },
  {
   "cell_type": "code",
   "execution_count": null,
   "metadata": {
    "collapsed": true
   },
   "outputs": [],
   "source": []
  },
  {
   "cell_type": "code",
   "execution_count": null,
   "metadata": {
    "collapsed": true
   },
   "outputs": [],
   "source": []
  },
  {
   "cell_type": "code",
   "execution_count": 23,
   "metadata": {},
   "outputs": [
    {
     "data": {
      "text/plain": [
       "True"
      ]
     },
     "execution_count": 23,
     "metadata": {},
     "output_type": "execute_result"
    }
   ],
   "source": [
    "s = \"the quick brown lazy fox jumps over the lazy dog !\"\n",
    "alphabet = set(\"abcdefghijklmnopqrstuvwxyz\")\n",
    "\n",
    "set(s) & alphabet == alphabet\n"
   ]
  },
  {
   "cell_type": "markdown",
   "metadata": {
    "collapsed": true
   },
   "source": [
    "## Problèmes:\n",
    "\n",
    "  - définir un ensemble de fonctions pour manipuler des représentations de polynômes\n",
    "  - définir un ensemble de fonctions manipulant des représentations de vecteurs \"creux\" de dimensions quelconque. Un vecteur creux est un vecteur dont beaucoup de coordonnées sont nulles, et pour lesquels on veut optimiser la place mémoire nécessaire. Ici on le fera avec des dictionnaires.  \n",
    "  On veut les opérations classiques (somme, dérivation, produit scalaire, différence, produit par un scalaire, norme) et des fonctions de création/modification. "
   ]
  }
 ],
 "metadata": {
  "kernelspec": {
   "display_name": "Python 3",
   "language": "python",
   "name": "python3"
  },
  "language_info": {
   "codemirror_mode": {
    "name": "ipython",
    "version": 3
   },
   "file_extension": ".py",
   "mimetype": "text/x-python",
   "name": "python",
   "nbconvert_exporter": "python",
   "pygments_lexer": "ipython3",
   "version": "3.8.2"
  }
 },
 "nbformat": 4,
 "nbformat_minor": 1
}
