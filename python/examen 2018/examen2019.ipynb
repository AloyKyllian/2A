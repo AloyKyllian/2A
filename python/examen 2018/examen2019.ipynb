{
 "cells": [
  {
   "cell_type": "code",
   "execution_count": 15,
   "metadata": {},
   "outputs": [
    {
     "data": {
      "text/plain": [
       "4"
      ]
     },
     "execution_count": 15,
     "metadata": {},
     "output_type": "execute_result"
    }
   ],
   "source": [
    "t = {0:{1:{2:{}},\n",
    "        3:{4:{},\n",
    "           5:{6:{}}}}}\n",
    "\n",
    "def pronfondeur(dico):\n",
    "    Nb= 0\n",
    "    temp = dico\n",
    "    while(temp != {}):\n",
    "        key = list(temp.keys())\n",
    "        Nb+=1\n",
    "        temp = temp[max(key)]\n",
    "    return Nb\n",
    "                \n",
    "            \n",
    "pronfondeur(t)   "
   ]
  },
  {
   "cell_type": "code",
   "execution_count": 11,
   "metadata": {},
   "outputs": [
    {
     "data": {
      "text/plain": [
       "True"
      ]
     },
     "execution_count": 11,
     "metadata": {},
     "output_type": "execute_result"
    }
   ],
   "source": [
    "def is_in(dico,valeur):\n",
    "    temp = dico\n",
    "    key = None\n",
    "    while(temp != {}):\n",
    "        key = list(temp.keys())\n",
    "        temp = temp[max(key)]\n",
    "    if valeur in range(max(key)+1):\n",
    "        return True\n",
    "    else:\n",
    "        return False\n",
    "\n",
    "is_in(t,5)\n",
    "        "
   ]
  },
  {
   "cell_type": "code",
   "execution_count": 14,
   "metadata": {},
   "outputs": [
    {
     "data": {
      "text/plain": [
       "7"
      ]
     },
     "execution_count": 14,
     "metadata": {},
     "output_type": "execute_result"
    }
   ],
   "source": [
    "def nb_element(dico):\n",
    "    temp = dico\n",
    "    key = None\n",
    "    while(temp != {}):\n",
    "        key = list(temp.keys())\n",
    "        temp = temp[max(key)]\n",
    "    return max(key)+1\n",
    "    \n",
    "nb_element(t)"
   ]
  }
 ],
 "metadata": {
  "interpreter": {
   "hash": "bbc2ed3a8a2dee35b18e38b3ef06bdb872cfcf66a777cd2986d2236d6841a89a"
  },
  "kernelspec": {
   "display_name": "Python 3.11.4 ('base')",
   "language": "python",
   "name": "python3"
  },
  "language_info": {
   "codemirror_mode": {
    "name": "ipython",
    "version": 3
   },
   "file_extension": ".py",
   "mimetype": "text/x-python",
   "name": "python",
   "nbconvert_exporter": "python",
   "pygments_lexer": "ipython3",
   "version": "3.11.4"
  },
  "orig_nbformat": 4
 },
 "nbformat": 4,
 "nbformat_minor": 2
}
