{
 "cells": [
  {
   "cell_type": "code",
   "execution_count": 1,
   "metadata": {},
   "outputs": [
    {
     "data": {
      "text/plain": [
       "4"
      ]
     },
     "execution_count": 1,
     "metadata": {},
     "output_type": "execute_result"
    }
   ],
   "source": [
    "t = {0:{1:{2:{}},\n",
    "        3:{4:{},\n",
    "           5:{6:{}}}}}\n",
    "\n",
    "def pronfondeur(dico):\n",
    "    Nb= 0\n",
    "    temp = dico\n",
    "    while(temp != {}):\n",
    "        key = list(temp.keys())\n",
    "        Nb+=1\n",
    "        temp = temp[max(key)]\n",
    "    return Nb\n",
    "                \n",
    "            \n",
    "pronfondeur(t)   "
   ]
  },
  {
   "cell_type": "code",
   "execution_count": 2,
   "metadata": {},
   "outputs": [
    {
     "data": {
      "text/plain": [
       "True"
      ]
     },
     "execution_count": 2,
     "metadata": {},
     "output_type": "execute_result"
    }
   ],
   "source": [
    "def is_in(dico,valeur):\n",
    "    temp = dico\n",
    "    key = None\n",
    "    while(temp != {}):\n",
    "        key = list(temp.keys())\n",
    "        temp = temp[max(key)]\n",
    "    if valeur in range(max(key)+1):\n",
    "        return True\n",
    "    else:\n",
    "        return False\n",
    "\n",
    "is_in(t,5)\n",
    "        "
   ]
  },
  {
   "cell_type": "code",
   "execution_count": 14,
   "metadata": {},
   "outputs": [
    {
     "data": {
      "text/plain": [
       "7"
      ]
     },
     "execution_count": 14,
     "metadata": {},
     "output_type": "execute_result"
    }
   ],
   "source": [
    "def nb_element(dico):\n",
    "    temp = dico\n",
    "    key = None\n",
    "    while(temp != {}):\n",
    "        key = list(temp.keys())\n",
    "        temp = temp[max(key)]\n",
    "    return max(key)+1\n",
    "    \n",
    "nb_element(t)"
   ]
  },
  {
   "cell_type": "code",
   "execution_count": 5,
   "metadata": {},
   "outputs": [
    {
     "name": "stdout",
     "output_type": "stream",
     "text": [
      "Exercice 2\n",
      "[0, 1, 2, 3, 4, 5, 6, 7, 8, 9]\n",
      "0\n",
      "2\n"
     ]
    }
   ],
   "source": [
    "#Exercice 2\n",
    "class ListCompte:\n",
    "    def __init__(self, iterable):\n",
    "        self.data = list(iterable)\n",
    "        self.counter = 0\n",
    "\n",
    "    def __getitem__(self, index):\n",
    "        self.counter += 1\n",
    "\n",
    "        return self.data[index]\n",
    "\n",
    "    def __repr__(self):\n",
    "        return repr(self.data)\n",
    "\n",
    "#TESTS\n",
    "print(\"Exercice 2\")\n",
    "cl = ListCompte(range(10))\n",
    "print(cl)\n",
    "print(cl.counter)\n",
    "cl[4] + cl[2]\n",
    "print(cl.counter)"
   ]
  }
 ],
 "metadata": {
  "interpreter": {
   "hash": "bbc2ed3a8a2dee35b18e38b3ef06bdb872cfcf66a777cd2986d2236d6841a89a"
  },
  "kernelspec": {
   "display_name": "Python 3.11.4 ('base')",
   "language": "python",
   "name": "python3"
  },
  "language_info": {
   "codemirror_mode": {
    "name": "ipython",
    "version": 3
   },
   "file_extension": ".py",
   "mimetype": "text/x-python",
   "name": "python",
   "nbconvert_exporter": "python",
   "pygments_lexer": "ipython3",
   "version": "3.11.4"
  },
  "orig_nbformat": 4
 },
 "nbformat": 4,
 "nbformat_minor": 2
}
