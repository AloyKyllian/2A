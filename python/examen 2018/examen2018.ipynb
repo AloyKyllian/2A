{
 "cells": [
  {
   "cell_type": "code",
   "execution_count": 83,
   "metadata": {},
   "outputs": [
    {
     "name": "stdout",
     "output_type": "stream",
     "text": [
      "{(1, 'a'): 2, (1, 'b'): 4, (2, 'c'): 4, (5, 'b'): 4, (5, 'd'): 2, (5, 'e'): 7}\n",
      "{1: {'a': 2, 'b': 4}, 2: {'c': 4}, 5: {'b': 4, 'd': 2, 'e': 7}}\n"
     ]
    }
   ],
   "source": [
    "d = {1: {\"a\": 2, \"b\": 4},\n",
    "     2: {\"c\": 4},\n",
    "     5: {\"b\": 4, \"d\": 2, \"e\": 7}}\n",
    "\n",
    "\n",
    "def dict_paires(dico):\n",
    "    dictionnaire = {}\n",
    "    for keys, dic2 in dico.items():\n",
    "        for keys2, value in dic2.items():\n",
    "            dictionnaire[(keys, keys2)] = value\n",
    "\n",
    "    return dictionnaire\n",
    "\n",
    "\n",
    "print(dict_paires(d))\n",
    "\n",
    "\n",
    "def dict_split(dico):\n",
    "    dictionnaire = {}\n",
    "    dico2 = []\n",
    "    for (key, key2), value in dico.items():\n",
    "        dico2 = {key2: value}\n",
    "        if key in dictionnaire:\n",
    "            # dictionnaire[key] = dictionnaire[key] | dico2\n",
    "            dictionnaire[key].update(dico2)\n",
    "        else:\n",
    "            dictionnaire[key] = dico2.copy()\n",
    "        dico2.clear()\n",
    "\n",
    "    return dictionnaire\n",
    "\n",
    "\n",
    "print(dict_split(dict_paires(d)))\n"
   ]
  },
  {
   "cell_type": "code",
   "execution_count": 89,
   "metadata": {},
   "outputs": [
    {
     "name": "stdout",
     "output_type": "stream",
     "text": [
      "[0, 1, 2, 3, 4, 5, 6, 7, 8, 9]\n",
      "0\n",
      "2\n"
     ]
    }
   ],
   "source": [
    "class Liste_compte:\n",
    "    \n",
    "    def __init__(self,liste):\n",
    "        self.liste = liste\n",
    "        self.counter = 0\n",
    "    \n",
    "    def __getitem__(self,idx):\n",
    "        self.counter+=1\n",
    "        return self.liste[idx]\n",
    "\n",
    "    def __repr__(self):\n",
    "        return self.counter\n",
    "    \n",
    "    def __str__(self):\n",
    "        txt = str(list(self.liste))\n",
    "        return txt\n",
    "        \n",
    "c1 = Liste_compte(range(10))\n",
    "print(c1)\n",
    "print(c1.counter)\n",
    "c1[4]+c1[2]\n",
    "print(c1.counter)"
   ]
  },
  {
   "cell_type": "code",
   "execution_count": 2,
   "metadata": {},
   "outputs": [
    {
     "name": "stdout",
     "output_type": "stream",
     "text": [
      "3.1426\n"
     ]
    }
   ],
   "source": [
    "import numpy as np\n",
    "\n",
    "def approximerpi(n):\n",
    "    x=np.random.random(n)\n",
    "    y=np.random.random(n)\n",
    "    # print(x**2 + y**2 <= 1)\n",
    "    # i = np.sum(x**2 + y**2 <= 1)\n",
    "    \n",
    "    point = np.array(list(zip(x,y)))\n",
    "\n",
    "    nombre = point[point[:,0]**2+point[:,1]**2<=1]\n",
    "    \n",
    "    print(len(nombre)/len(point)*4)\n",
    "\n",
    "approximerpi(20000)"
   ]
  },
  {
   "cell_type": "code",
   "execution_count": 9,
   "metadata": {},
   "outputs": [
    {
     "name": "stdout",
     "output_type": "stream",
     "text": [
      "[1 6 0 8 0 0]\n"
     ]
    }
   ],
   "source": [
    "def derivepolynome(poly):\n",
    "    polynom = np.roll(poly*np.arange(len(poly)),len(poly)-1)\n",
    "    print(polynom)\n",
    "    \n",
    "\n",
    "poly = np.array([0,1,3,0,2,0])\n",
    "derivepolynome(poly)"
   ]
  },
  {
   "cell_type": "code",
   "execution_count": 87,
   "metadata": {},
   "outputs": [
    {
     "name": "stdout",
     "output_type": "stream",
     "text": [
      "0\n",
      "12\n"
     ]
    }
   ],
   "source": [
    "\n",
    "def filter(fonction):\n",
    "    resultat = fonction\n",
    "    if resultat < 0:\n",
    "        return 0\n",
    "    return resultat\n",
    "    \n",
    "\n",
    "def bof(y):\n",
    "    return y\n",
    "\n",
    "print(filter(bof(-2)))\n",
    "print(filter(bof(12)))"
   ]
  },
  {
   "cell_type": "code",
   "execution_count": 82,
   "metadata": {},
   "outputs": [
    {
     "name": "stdout",
     "output_type": "stream",
     "text": [
      "5\n",
      "4\n",
      "12\n"
     ]
    }
   ],
   "source": [
    "def filter(times):\n",
    "    def wrapper(func):\n",
    "        def newfunc(*args):\n",
    "            val = func(*args)\n",
    "            if val < times:\n",
    "                return times\n",
    "            return val\n",
    "        return newfunc\n",
    "    return wrapper\n",
    "    \n",
    "   \n",
    "    \n",
    "@filter(4)\n",
    "def bof(y):\n",
    "    return y\n",
    "\n",
    "print(bof(5))\n",
    "print(bof(3))\n",
    "print(bof(12))"
   ]
  }
 ],
 "metadata": {
  "interpreter": {
   "hash": "bbc2ed3a8a2dee35b18e38b3ef06bdb872cfcf66a777cd2986d2236d6841a89a"
  },
  "kernelspec": {
   "display_name": "Python 3.11.4 ('base')",
   "language": "python",
   "name": "python3"
  },
  "language_info": {
   "codemirror_mode": {
    "name": "ipython",
    "version": 3
   },
   "file_extension": ".py",
   "mimetype": "text/x-python",
   "name": "python",
   "nbconvert_exporter": "python",
   "pygments_lexer": "ipython3",
   "version": "3.11.4"
  },
  "orig_nbformat": 4
 },
 "nbformat": 4,
 "nbformat_minor": 2
}
