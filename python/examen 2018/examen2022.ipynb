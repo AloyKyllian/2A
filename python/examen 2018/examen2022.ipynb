{
 "cells": [
  {
   "cell_type": "code",
   "execution_count": 34,
   "metadata": {},
   "outputs": [
    {
     "name": "stdout",
     "output_type": "stream",
     "text": [
      "cehin\n"
     ]
    }
   ],
   "source": [
    "def mot2clef(mot):\n",
    "    return \"\".join(sorted(mot))\n",
    "    \n",
    "print(mot2clef(\"chien\"))\n"
   ]
  },
  {
   "cell_type": "code",
   "execution_count": 45,
   "metadata": {},
   "outputs": [
    {
     "name": "stdout",
     "output_type": "stream",
     "text": [
      "{'cehin': ['chien', 'chine', 'niche'], 'aabenn': ['banane'], 'irt': ['tri', 'rit'], 'art': ['rat']}\n"
     ]
    }
   ],
   "source": [
    "def faire_dico(liste_mot):\n",
    "    dico = {}\n",
    "    for mot in liste_mot:\n",
    "        if mot2clef(mot) not in dico.keys():\n",
    "            dico[mot2clef(mot)] = []\n",
    "        dico[mot2clef(mot)].append(mot)\n",
    "    return dico\n",
    "\n",
    "dico = faire_dico([\"chien\",\"chine\",\"banane\",\"niche\",\"tri\",\"rit\",\"rat\"])\n",
    "print(dico)"
   ]
  },
  {
   "cell_type": "code",
   "execution_count": 48,
   "metadata": {},
   "outputs": [
    {
     "data": {
      "text/plain": [
       "{5: {'cehin': ['chien', 'chine', 'niche']},\n",
       " 6: {'aabenn': ['banane']},\n",
       " 3: {'irt': ['tri', 'rit'], 'art': ['rat']}}"
      ]
     },
     "execution_count": 48,
     "metadata": {},
     "output_type": "execute_result"
    }
   ],
   "source": [
    "def par_taille(dico):\n",
    "    dico2 =  {}\n",
    "    for key,value in dico.items():\n",
    "        if len(key) not in dico2 : \n",
    "            dico2[len(key)] ={}\n",
    "        dico2[len(key)].update({key:value})\n",
    "    return dico2\n",
    "par_taille(dico)"
   ]
  }
 ],
 "metadata": {
  "interpreter": {
   "hash": "bbc2ed3a8a2dee35b18e38b3ef06bdb872cfcf66a777cd2986d2236d6841a89a"
  },
  "kernelspec": {
   "display_name": "Python 3.11.4 ('base')",
   "language": "python",
   "name": "python3"
  },
  "language_info": {
   "codemirror_mode": {
    "name": "ipython",
    "version": 3
   },
   "file_extension": ".py",
   "mimetype": "text/x-python",
   "name": "python",
   "nbconvert_exporter": "python",
   "pygments_lexer": "ipython3",
   "version": "3.11.4"
  },
  "orig_nbformat": 4
 },
 "nbformat": 4,
 "nbformat_minor": 2
}
